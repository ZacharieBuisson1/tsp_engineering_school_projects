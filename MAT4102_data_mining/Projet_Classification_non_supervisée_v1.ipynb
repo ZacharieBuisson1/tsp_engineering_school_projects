{
 "cells": [
  {
   "cell_type": "markdown",
   "metadata": {},
   "source": [
    "# Projet de Classification non Supervisée\n",
    "#### BIDART Julen - BUISSON Zacharie - GUILLET Thomas"
   ]
  },
  {
   "cell_type": "markdown",
   "metadata": {},
   "source": [
    "## Partie 1 : Affichage des signatures"
   ]
  },
  {
   "cell_type": "code",
   "execution_count": 201,
   "metadata": {},
   "outputs": [],
   "source": [
    "#Liste de tous les imports nécéssaires\n",
    "\n",
    "import os\n",
    "import matplotlib.pyplot as plt\n",
    "import numpy as np\n",
    "from random import uniform"
   ]
  },
  {
   "cell_type": "code",
   "execution_count": 136,
   "metadata": {},
   "outputs": [],
   "source": [
    "#Code intermédiaire qui permet de partitionner les mots d'une ligne, séparés d'un caractère donné\n",
    "def separe_espace(chaine,caractere):\n",
    "    liste_mot=[]\n",
    "    chaine_actuelle=\"\"\n",
    "    for i in chaine:\n",
    "        if i == caractere:\n",
    "            liste_mot+=[float(chaine_actuelle)]\n",
    "            chaine_actuelle=\"\"\n",
    "        else:\n",
    "            chaine_actuelle+=i\n",
    "    if chaine_actuelle != \"\":\n",
    "        liste_mot+=[chaine_actuelle]\n",
    "    return liste_mot"
   ]
  },
  {
   "cell_type": "code",
   "execution_count": 128,
   "metadata": {},
   "outputs": [
    {
     "data": {
      "text/plain": [
       "[30, 2012, 65596, '5']"
      ]
     },
     "execution_count": 128,
     "metadata": {},
     "output_type": "execute_result"
    }
   ],
   "source": [
    "separe_espace(\"30 2012 65596 5\",\" \")"
   ]
  },
  {
   "cell_type": "code",
   "execution_count": 138,
   "metadata": {},
   "outputs": [],
   "source": [
    "def visualise_signature_i(numero_signature):\n",
    "    liste_signature=os.listdir('Untitled Folder')\n",
    "    liste_entete=[]\n",
    "    bon_fichier=1\n",
    "    for numero_fichier in range(0,len(liste_signature)):\n",
    "        entete=\"\"\n",
    "        avant_v=False\n",
    "        for caractere in liste_signature[numero_fichier]:\n",
    "            if avant_v==False:\n",
    "                if caractere==\"v\":\n",
    "                    avant_v=True\n",
    "                else:\n",
    "                    entete+=caractere\n",
    "        liste_entete+=[entete]\n",
    "    for indice_entetes in range(0,len(liste_entete)):\n",
    "        if int(liste_entete[indice_entetes])==numero_signature:\n",
    "            bon_fichier=liste_signature[indice_entetes]\n",
    "    adresse_fichier=\"Untitled Folder/\"+bon_fichier\n",
    "    \n",
    "    fi=open(adresse_fichier,'r')\n",
    "    \n",
    "    liste_x=[]\n",
    "    liste_y=[]\n",
    "    liste_p=[]\n",
    "    liste_az=[]\n",
    "    liste_al=[]\n",
    "    \n",
    "    line=fi.readline()\n",
    "    while line:\n",
    "        coordonnees_ligne=separe_espace(line,\" \")\n",
    "        liste_x+=[coordonnees_ligne[0]]\n",
    "        liste_y+=[coordonnees_ligne[1]]\n",
    "        liste_p+=[coordonnees_ligne[2]]\n",
    "        liste_az+=[coordonnees_ligne[3]]\n",
    "        liste_al+=[coordonnees_ligne[4]]\n",
    "        line=fi.readline()\n",
    "    fi.close()\n",
    "    #return(liste_x,liste_y)\n",
    "    \n",
    "    plt.plot(liste_x,liste_y,'b')\n",
    "    #plt.plot(liste_y,liste_x)\n",
    "    plt.show()\n",
    "        \n",
    "            \n",
    "            "
   ]
  },
  {
   "cell_type": "code",
   "execution_count": 139,
   "metadata": {},
   "outputs": [
    {
     "data": {
      "image/png": "[encoded data removed]",
      "text/plain": [
       "<Figure size 432x288 with 1 Axes>"
      ]
     },
     "metadata": {
      "needs_background": "light"
     },
     "output_type": "display_data"
    }
   ],
   "source": [
    "visualise_signature_i(54)"
   ]
  },
  {
   "cell_type": "markdown",
   "metadata": {},
   "source": [
    "### Mesure de compléxité et catégorisation"
   ]
  },
  {
   "cell_type": "code",
   "execution_count": 165,
   "metadata": {},
   "outputs": [],
   "source": [
    "#Code intermédiaire qui permet de partitionner les mots d'une ligne, séparés d'un caractère donné\n",
    "def separe_espace2(chaine,caractere):\n",
    "    liste_mot=[]\n",
    "    chaine_actuelle=\"\"\n",
    "    for i in chaine:\n",
    "        if i == caractere:\n",
    "            liste_mot+=[chaine_actuelle]\n",
    "            chaine_actuelle=\"\"\n",
    "        else:\n",
    "            chaine_actuelle+=i\n",
    "    if chaine_actuelle != \"\":\n",
    "        liste_mot+=[chaine_actuelle]\n",
    "    return liste_mot"
   ]
  },
  {
   "cell_type": "code",
   "execution_count": 169,
   "metadata": {},
   "outputs": [],
   "source": [
    "#Question 1 : Mesure de complexité moyenne\n",
    "#On suppose que l'on fait une moyenne empirique classique\n",
    "\n",
    "def moyenne(liste):\n",
    "    resu=0\n",
    "    for i in liste:\n",
    "        resu+=float(i.replace(',','.'))\n",
    "    return resu/len(liste)\n",
    "\n",
    "def moyenne_fichier(fichier):\n",
    "    adresse_fichier=\"Untitled Folder/\"+fichier\n",
    "    fi=open(adresse_fichier, 'r')\n",
    "    line=fi.readline()\n",
    "    resu=[]\n",
    "    while line:\n",
    "        valeur_ligne=separe_espace2(line, \"\t\")\n",
    "        resu+=[moyenne(valeur_ligne)]\n",
    "        line=fi.readline()\n",
    "    return resu\n"
   ]
  },
  {
   "cell_type": "markdown",
   "metadata": {},
   "source": [
    "#### Tests du code : Retirer les Mots-dièse."
   ]
  },
  {
   "cell_type": "code",
   "execution_count": 174,
   "metadata": {},
   "outputs": [],
   "source": [
    "#moyenne_fichier(\"Complexité avec 4G (100x25).txt\")"
   ]
  },
  {
   "cell_type": "code",
   "execution_count": 175,
   "metadata": {},
   "outputs": [],
   "source": [
    "#moyenne_fichier(\"Complexité avec 8G (100x25).txt\")"
   ]
  },
  {
   "cell_type": "code",
   "execution_count": 176,
   "metadata": {},
   "outputs": [],
   "source": [
    "#moyenne_fichier(\"Complexité avec 24G (100x25).txt\")"
   ]
  },
  {
   "cell_type": "markdown",
   "metadata": {},
   "source": [
    "## Partie 2 : Clustering"
   ]
  },
  {
   "cell_type": "markdown",
   "metadata": {},
   "source": [
    "### Préliminaires à propos des données\n",
    "\n",
    "Dans cette partie, on se propose d'étudier la repartition en catégories des différentes valeurs de compléxité moyenne des signatures. Pour, on nous suggère de regarder les moyennes, et d'appliquer différentes méthodes et analyses pour tirer des conclusions de cela.\n",
    "\n",
    "Déjà, on peut noter que ces données sont en dimension 1 : on n'a qu'une seule variable par signature, qui est la moyenne de compléxité, et ceci simplifie l'analyse.\n",
    "\n",
    "Ensuite, on peut voir que les 3 analyses se font par rapport à un certain nombre de gaussiennes, et ceci va faire fluctuer les valeurs des moyennes : l'analyse sera donc faite 3 fois, mais les exécutions se"
   ]
  },
  {
   "cell_type": "markdown",
   "metadata": {},
   "source": [
    "### Méthode n°1 : Regroupement Hiérarchique Ascendant"
   ]
  },
  {
   "cell_type": "code",
   "execution_count": 196,
   "metadata": {},
   "outputs": [],
   "source": [
    "#Méthodes de Regroupement Hiérarchique Ascendant\n",
    "\n",
    "def liste_singleton(n):\n",
    "    resu=[]\n",
    "    for i in range(0,n):\n",
    "        resu+=[[i]]\n",
    "    return resu\n",
    "\n",
    "def distance_min_ensemble(A,B):\n",
    "    resu=float('inf')\n",
    "    for a in A:\n",
    "        for b in B:\n",
    "            distance=abs(b-a)\n",
    "            if resu > distance:\n",
    "                resu=distance\n",
    "    return resu\n",
    "\n",
    "def regroupement_hierarchique_ascendant(liste_moyenne,nombre_de_classe):\n",
    "    classes = []\n",
    "    for i in liste_moyenne:\n",
    "        classes += [[i]]\n",
    "    while len(classes) > nombre_de_classe:\n",
    "        classe_a_changer_a = []\n",
    "        classe_a_changer_b = []\n",
    "        n = len(classes)\n",
    "        distance_min = float('inf')\n",
    "        for indice_element_a in range(0,n):\n",
    "            for indice_element_b in range(0,n):\n",
    "                dist = distance_min_ensemble(classes[indice_element_a], classes[indice_element_b])\n",
    "                if (dist < distance_min) and (classes[indice_element_a] != classes[indice_element_b]):\n",
    "                    distance_min = dist\n",
    "                    classe_a_changer_a = classes[indice_element_a]\n",
    "                    classe_a_changer_b = classes[indice_element_b]\n",
    "        nouvelle_classe = classe_a_changer_b + classe_a_changer_a\n",
    "        classes.remove(classe_a_changer_a)\n",
    "        classes.remove(classe_a_changer_b)\n",
    "        classes += [nouvelle_classe]\n",
    "        print(distance_min)\n",
    "    return classes\n",
    "        \n",
    "                    \n",
    "                "
   ]
  },
  {
   "cell_type": "code",
   "execution_count": 198,
   "metadata": {},
   "outputs": [],
   "source": [
    "#regroupement_hierarchique_ascendant(moyenne_fichier(\"Complexité avec 4G (100x25).txt\"),3)"
   ]
  },
  {
   "cell_type": "code",
   "execution_count": 199,
   "metadata": {},
   "outputs": [],
   "source": [
    "#regroupement_hierarchique_ascendant(moyenne_fichier(\"Complexité avec 8G (100x25).txt\"),3)"
   ]
  },
  {
   "cell_type": "code",
   "execution_count": 200,
   "metadata": {},
   "outputs": [],
   "source": [
    "#regroupement_hierarchique_ascendant(moyenne_fichier(\"Complexité avec 24G (100x25).txt\"),3)"
   ]
  },
  {
   "cell_type": "markdown",
   "metadata": {},
   "source": [
    "Cette méthode nous donne des groupes différents, en fonction de la méthode de dissimilarité choisie. Ici, on se propose de regarder les plus proches voisins, afin de faire la classification.\n",
    "\n",
    "Cette méthode nous donne donc 3 classes, qui sont faites avec les plus proches voisins.\n",
    "\n",
    "Ici, on voit que l'on va être limité par la complexité dès lors que l'on aura des nombres de signatures à traiter qui seront plus élevées : les méthodes de comparaison entre élements paraissent naïves à certains moments, et créer de la compléxité. (en O(n^3))"
   ]
  },
  {
   "cell_type": "code",
   "execution_count": null,
   "metadata": {},
   "outputs": [],
   "source": []
  },
  {
   "cell_type": "markdown",
   "metadata": {},
   "source": [
    "### Méthode n°2 : K-moyennes"
   ]
  },
  {
   "cell_type": "code",
   "execution_count": null,
   "metadata": {},
   "outputs": [],
   "source": [
    "#Méthode des K-moyennes\n",
    "\n",
    "def minim(liste):\n",
    "    resu=float('inf')\n",
    "    for i in liste:\n",
    "        if i<resu:\n",
    "            resu=i\n",
    "    return i\n",
    "\n",
    "def maxim(liste):\n",
    "    resu=float('-inf')\n",
    "    for i in liste:\n",
    "        if i>resu:\n",
    "            resu=i\n",
    "    return i\n",
    "\n",
    "def K_moyenne(li,K):\n",
    "    K_centres=(uniform(minim(li),maxim(li)),uniform(minim(li),maxim(li)),uniform(minim(li),maxim(li)))\n",
    "    \n",
    "    "
   ]
  }
 ],
 "metadata": {
  "kernelspec": {
   "display_name": "Python 3",
   "language": "python",
   "name": "python3"
  },
  "language_info": {
   "codemirror_mode": {
    "name": "ipython",
    "version": 3
   },
   "file_extension": ".py",
   "mimetype": "text/x-python",
   "name": "python",
   "nbconvert_exporter": "python",
   "pygments_lexer": "ipython3",
   "version": "3.7.6"
  }
 },
 "nbformat": 4,
 "nbformat_minor": 4
}
