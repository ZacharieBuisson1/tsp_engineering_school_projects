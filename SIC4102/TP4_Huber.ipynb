{
 "cells": [
  {
   "cell_type": "markdown",
   "metadata": {},
   "source": [
    "<center> <font size=\"+1\"> TP4 SIC 4102 </font> </center>\n",
    "\n",
    "# Regression: critère $\\ell_2$ et fonction de Huber\n",
    "\n",
    "$\n",
    "\\newcommand{\\tr}{^\\top}\n",
    "\\newcommand{\\bx}{\\mathbf{x}}\n",
    "$"
   ]
  },
  {
   "cell_type": "code",
   "execution_count": 1,
   "metadata": {},
   "outputs": [],
   "source": [
    "# Importer pylab, prévoir un tracé des figures en ligne.\n",
    "# changer ci-dessous\n",
    "import sys\n",
    "import numpy as np\n",
    "import matplotlib.pyplot as plt\n",
    "sys.path.append('../')\n",
    "import tp2a"
   ]
  },
  {
   "cell_type": "markdown",
   "metadata": {},
   "source": [
    "## Génération de données\n",
    "\n",
    "Tirer des réalisations $\\bx(n)$ (avec $n=1,\\dots,n_\\mathrm{sample}$) d'un vecteur aléatoire $\\bx = (x_1, x_2)\\tr$ qui satisfasse le modèle $x_2 = a x_1+b$. Perturber ensuite ces données en ajoutant un bruit (par exemple Gaussien) sur chacun des échantillons de $\\bx$. Définir deux points aberrants par rapport au nuage de points obtenu et visualiser les données."
   ]
  },
  {
   "cell_type": "code",
   "execution_count": null,
   "metadata": {},
   "outputs": [],
   "source": [
    "# ### data generation\n",
    "nsample = 100\n",
    "x = np.empty([2, nsample])\n",
    "\n",
    "# TODO: choisir a, b, remplir x en bruitant\n",
    "\n",
    "# TODO: bien choisir tmin et tmax pour le tracé\n",
    "\n",
    "t = np.linspace(tmin, tmax)\n",
    "\n",
    "plt.subplots(1, 1)\n",
    "plt.plot(x[0, 2:], x[1, 2:], 'x', label='Data')\n",
    "plt.plot(x[0, :2], x[1, :2], 'xr')\n",
    "plt.plot(t, a*t+b, label='Modèle sans bruit')\n",
    "plt.legend()"
   ]
  },
  {
   "cell_type": "markdown",
   "metadata": {},
   "source": [
    "## Régression, critère $\\ell_2$ (moindres carrés)\n",
    "\n",
    "Déterminer les coefficients $w_0, w_1$ tels que le critère suivant soit minimum:\n",
    "$$\n",
    "\\sum_{n=1}^{n_\\mathrm{sample}} (x_2(n) - (w_1 x_1(n) + w_0))^2\n",
    "$$\n",
    "\n",
    "Faire ceci en incluant et en excluant les points aberrants de l'ensemble des données. Tracer les droites de régression obtenues.\n",
    "\n",
    "On pourra utiliser la fonction `tp2a.educ.approx_l2`."
   ]
  },
  {
   "cell_type": "code",
   "execution_count": null,
   "metadata": {},
   "outputs": [],
   "source": [
    "# ### least squares fit\n",
    "# TODO: prévoir régression avec et sans les points aberrants\n",
    "w_ls = # avec points aberrants\n",
    "w_ls_no = # no outlier\n",
    "\n",
    "plt.subplots(1, 1)\n",
    "plt.plot(x[0, 2:], x[1, 2:], 'x', label='Data')\n",
    "plt.plot(x[0, :2], x[1, :2], 'xr')\n",
    "plt.plot(t, w_ls[0]*t+w_ls[1], color='orange', label='$||.||_2^2$ fit')\n",
    "plt.plot(t, w_ls_no[0]*t+w_ls_no[1], color='orange', linestyle='--',\n",
    "        label='$||.||_2^2$ fit, no outlier')\n",
    "plt.legend()"
   ]
  },
  {
   "cell_type": "markdown",
   "metadata": {},
   "source": [
    "# Régression, critère Huber\n",
    "\n",
    "Déterminer les coefficients $w_0, w_1$ tels que le critère suivant soit minimum:\n",
    "$$\n",
    "\\sum_{n=1}^{n_\\mathrm{sample}} \\phi_\\mathrm{Huber}(x_2(n) - (w_1 x_1(n) + w_0))\n",
    "$$\n",
    "où la fonction de Huber $\\phi_\\mathrm{Huber}$ a été définie en cours.\n",
    "\n",
    "Faire ceci en incluant et en excluant les points aberrants de l'ensemble des données. Tracer les droites de régression obtenues.\n",
    "\n",
    "On pourra utiliser la fonction `tp2a.proxalgs.approx_huber`."
   ]
  },
  {
   "cell_type": "code",
   "execution_count": null,
   "metadata": {},
   "outputs": [],
   "source": [
    "# huber fit\n",
    "# TODO: prévoir régression avec et sans les points aberrants\n",
    "w_huber = # avec points aberrants\n",
    "w_huber_no = # no outlier\n",
    "\n",
    "plt.subplots(1, 1)\n",
    "plt.plot(x[0, 2:], x[1, 2:], 'x', label='Data')\n",
    "plt.plot(x[0, :2], x[1, :2], 'xr')\n",
    "plt.plot(t, w_huber[0]*t+w_huber[1], color='green', label='Huber fit')\n",
    "plt.plot(t, w_huber_no[0]*t+w_huber_no[1], color='green', linestyle='--', label='Huber, no outlier')\n",
    "plt.legend()"
   ]
  },
  {
   "cell_type": "markdown",
   "metadata": {},
   "source": [
    "# Résumé et conclusion\n",
    "\n",
    "Constater la robustesse de la pénalisation Huber par rapport à la pénalisation $\\ell_2$."
   ]
  },
  {
   "cell_type": "code",
   "execution_count": 5,
   "metadata": {},
   "outputs": [
    {
     "data": {
      "text/plain": [
       "<matplotlib.legend.Legend at 0x7ff2905fbb00>"
      ]
     },
     "execution_count": 5,
     "metadata": {},
     "output_type": "execute_result"
    },
    {
     "data": {
      "image/png": "[encoded data removed]",
      "text/plain": [
       "<matplotlib.figure.Figure at 0x7ff2906367f0>"
      ]
     },
     "metadata": {},
     "output_type": "display_data"
    }
   ],
   "source": [
    "# plot figures (summary)\n",
    "Fig, Ax = plt.subplots(1, 1)\n",
    "Ax.plot(x[0, 2:], x[1, 2:], 'x', label='Data')\n",
    "Ax.plot(x[0, :2], x[1, :2], 'xr')\n",
    "Ax.plot(t, w_ls[0]*t+w_ls[1], color='orange', label='$||.||_2^2$ fit')\n",
    "Ax.plot(t, w_ls_no[0]*t+w_ls_no[1], color='orange', linestyle='--',\n",
    "        label='$||.||_2^2$ fit, no outlier')\n",
    "Ax.plot(t, w_huber[0]*t+w_huber[1], color='green', label='Huber fit')\n",
    "Ax.legend(fontsize=8, loc='right')"
   ]
  },
  {
   "cell_type": "code",
   "execution_count": null,
   "metadata": {},
   "outputs": [],
   "source": []
  }
 ],
 "metadata": {
  "jupytext": {
   "formats": "ipynb,Rmd"
  },
  "kernelspec": {
   "display_name": "Python 3",
   "language": "python",
   "name": "python3"
  },
  "language_info": {
   "codemirror_mode": {
    "name": "ipython",
    "version": 3
   },
   "file_extension": ".py",
   "mimetype": "text/x-python",
   "name": "python",
   "nbconvert_exporter": "python",
   "pygments_lexer": "ipython3",
   "version": "3.7.4"
  }
 },
 "nbformat": 4,
 "nbformat_minor": 2
}
