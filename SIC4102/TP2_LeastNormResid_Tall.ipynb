{
 "cells": [
  {
   "cell_type": "markdown",
   "metadata": {},
   "source": [
    "<center> <font size=\"+1\"> TP2 SIC 4102 </font> </center>\n",
    "\n",
    "# Problème de moindre norme (système sur-déterminé)\n"
   ]
  },
  {
   "cell_type": "markdown",
   "metadata": {},
   "source": [
    "$\n",
    "\\newcommand{\\bA}{\\mathbf{A}}\n",
    "\\newcommand{\\bx}{\\mathbf{x}}\n",
    "\\newcommand{\\by}{\\mathbf{y}}\n",
    "\\newcommand{\\be}{\\mathbf{e}}\n",
    "\\newcommand{\\br}{\\mathbf{r}}\n",
    "\\newcommand{\\RR}{\\mathbb{R}}\n",
    "\\newcommand{\\Argmin}{\\mathrm{Argmin}}\n",
    "\\newcommand{\\st}{\\mathrm{s.t.}}\n",
    "$\n",
    "\n",
    "On considère le modèle d'observation suivant:\n",
    "$$\n",
    "\\by = \\bA\\bx_0 + \\be\n",
    "$$\n",
    "où $\\bA\\in\\RR^{m\\times n}$ est une matrice donnée, $\\by$ est le vecteur d'observation, $\\bx_0$ est le vecteur des vraies données à reconstituer et $\\be$ est un terme de bruit perturbateur.\n",
    "\n",
    "On suppose $m\\geq n$, c'est-à-dire plus d'observations que d'inconnues et on s'intéresse au problème:\n",
    "$$\n",
    "\\Argmin_\\bx \\Phi(\\br) = \\sum_{i=1}^m \\phi(r_i) \\quad \\st \\quad \\br=\\by-\\bA\\bx\n",
    "$$\n",
    "pour différentes fonctions $\\phi$ données ci-dessous:\n",
    "- $\\phi(.) = (.)^2$ : on a alors le problème de moindre norme $\\ell_2$,\n",
    "- $\\phi(.) = |.|$ : on a alors le problème de moindre norme $\\ell_1$,\n",
    "- $\\phi(.) = $ est la fonction \"dead-zone linear\" ou \"$\\alpha$-insensitive loss."
   ]
  },
  {
   "cell_type": "code",
   "execution_count": 32,
   "metadata": {},
   "outputs": [],
   "source": [
    "# Import de libraires\n",
    "# %matplotlib inline\n",
    "import sys\n",
    "import scipy\n",
    "import matplotlib.pyplot as plt\n",
    "import numpy as np\n",
    "sys.path.append('../')\n",
    "import tp2a"
   ]
  },
  {
   "cell_type": "markdown",
   "metadata": {},
   "source": [
    "### Approximation, problème de moindre norme"
   ]
  },
  {
   "cell_type": "markdown",
   "metadata": {},
   "source": [
    "Reprogrammer la fonction `tp2a.educ.approx_l2(A, y)` qui donne $\\hat{\\bx}_{\\ell_2}= \\Argmin_{\\bx}  \\|\\by-\\bA\\bx\\|_2^2$."
   ]
  },
  {
   "cell_type": "code",
   "execution_count": 6,
   "metadata": {},
   "outputs": [],
   "source": [
    "def inv_sol(A, b):\n",
    "    return np.linalg.inv(A).dot(b)\n",
    "    #raise UserWarning('Reprogrammer cette fonction')\n",
    "\n",
    "\n",
    "def approx_l2(A, b):\n",
    "    B=np.dot(np.transpose(A),A)\n",
    "    Ay=np.transpose(A).dot(b)\n",
    "    return np.linalg.inv(B).dot(Ay)\n",
    "    \n",
    "\n",
    "\n",
    "def least_l2_pen(A, b):\n",
    "    return A.transpose().dot(np.linalg.inv(A.dot(A.transpose()))).dot(b)\n",
    "    #raise UserWarning('Reprogrammer cette fonction')\n",
    "\n",
    "\n",
    "def ridge(A, b, lamb):\n",
    "    B=np.dot(np.transpose(A),A)+lamb*np.eye(A.shape[0])\n",
    "    Ay=np.transpose(A).dot(b)\n",
    "    return np.linalg.inv(B).dot(Ay)\n",
    "    #raise UserWarning('Reprogrammer cette fonction')"
   ]
  },
  {
   "cell_type": "markdown",
   "metadata": {},
   "source": [
    "Reprogrammer une fonction `tp2a.lpalgs.approx_l1(A, y)` qui donne $\\hat{\\bx}_{\\ell_1} = \\Argmin_{\\bx}\\|\\by-\\bA\\bx\\|_1$ et une fonction `approx_dzl(A, y)` qui renvoit $\\hat{\\bx}_{\\mathrm{dzl}} = \\Argmin_{\\bx} \\mathrm{dzl}(\\by-\\bA\\bx)$ où $\\mathrm{dzl}(u) = \\max(0,|u|-\\alpha)$ \n",
    "\n",
    "<u>Indication</u>: ces problèmes se transforment en LP et le solveur scipy.optimize.linprog pourra être utilisé avec la méthode \"interior-point\")."
   ]
  },
  {
   "cell_type": "code",
   "execution_count": 63,
   "metadata": {},
   "outputs": [],
   "source": [
    "def approx_l1(A, b):\n",
    "    m, n = A.shape\n",
    "    c=[]\n",
    "    tetec=[]\n",
    "    queuec=[]\n",
    "    for i in range(0,m):\n",
    "        tetec+=[1]\n",
    "    for i in range(0,n):\n",
    "        queuec+=[0]\n",
    "    c=tetec+queuec\n",
    "    bub=np.concatenate((b, -b))\n",
    "    Aub=np.zeros((2*m,n+m))\n",
    "    for i in range(0,m):\n",
    "        Aub[i][i]=-1\n",
    "        Aub[m+i][i]=-1\n",
    "        for j in range(0,n):\n",
    "            Aub[i][m+j]=A[i][j]\n",
    "            Aub[i+m][m+j]=-A[i][j]\n",
    "    mtest, ntest = Aub.shape\n",
    "    print(mtest,ntest,2*n)\n",
    "    \n",
    "    lpSol = scipy.optimize.linprog(c, Aub, bub, method='interior-point')\n",
    "    x = lpSol.x[m:]\n",
    "    return x\n",
    "\n",
    "\n",
    "def approx_dzl(A, b, alpha):\n",
    "    m, n = A.shape\n",
    "    c=[]\n",
    "    tetec=[]\n",
    "    queuec=[]\n",
    "    for i in range(0,m):\n",
    "        tetec+=[1]\n",
    "    for i in range(0,n):\n",
    "        queuec+=[0]\n",
    "    c=tetec+queuec\n",
    "    bub=np.concatenate((b, -b))\n",
    "    for i in range(0,len(bub)):\n",
    "        bub[i]+=alpha\n",
    "    Aub=np.zeros((2*m,n+m))\n",
    "    for i in range(0,m):\n",
    "        Aub[i][i]=-1\n",
    "        Aub[m+i][i]=-1\n",
    "        for j in range(0,n):\n",
    "            Aub[i][m+j]=A[i][j]\n",
    "            Aub[i+m][m+j]=-A[i][j]\n",
    "    mtest, ntest = Aub.shape\n",
    "    print(mtest,ntest,2*n)\n",
    "    \n",
    "    lpSol = scipy.optimize.linprog(c, Aub, bub, method='interior-point')\n",
    "    x = lpSol.x[m:]\n",
    "    return x\n"
   ]
  },
  {
   "cell_type": "markdown",
   "metadata": {},
   "source": [
    "Tirer $\\bA$ de taille $m\\times n$ et $\\by$ de taille $m$ aléatoirement (loi gaussienne, éléments indépendants).\n",
    "Tracer l'histograme des résidus $\\by-\\bA\\hat{\\bx}_{\\ell_2}$, $\\by-\\bA\\hat{\\bx}_{\\ell_1}$ et $\\by-\\bA\\hat{\\bx}_{\\mathrm{dzl}}$. Commenter les résultats."
   ]
  },
  {
   "cell_type": "code",
   "execution_count": 64,
   "metadata": {},
   "outputs": [
    {
     "name": "stdout",
     "output_type": "stream",
     "text": [
      "400 300 200\n",
      "400 300 200\n"
     ]
    },
    {
     "data": {
      "image/png": "[encoded data removed]",
      "text/plain": [
       "<Figure size 432x288 with 3 Axes>"
      ]
     },
     "metadata": {
      "needs_background": "light"
     },
     "output_type": "display_data"
    }
   ],
   "source": [
    "m, n = 200, 100\n",
    "A = np.random.randn(m,n)\n",
    "y = np.random.randn(m)\n",
    "\n",
    "xl2 = approx_l2(A, y)\n",
    "xl1 = approx_l1(A, y)\n",
    "xdzl = approx_dzl(A, y, 0.5)\n",
    "\n",
    "Fig, Ax = plt.subplots(3,1)\n",
    "_ = Ax[0].hist(y-A.dot(xl2),bins=100)\n",
    "_ = Ax[1].hist(y-A.dot(xl1),bins=100)\n",
    "_ = Ax[2].hist(y-A.dot(xdzl),bins=100)"
   ]
  },
  {
   "cell_type": "code",
   "execution_count": null,
   "metadata": {},
   "outputs": [],
   "source": []
  }
 ],
 "metadata": {
  "jupytext": {
   "formats": "ipynb,Rmd"
  },
  "kernelspec": {
   "display_name": "Python 3",
   "language": "python",
   "name": "python3"
  },
  "language_info": {
   "codemirror_mode": {
    "name": "ipython",
    "version": 3
   },
   "file_extension": ".py",
   "mimetype": "text/x-python",
   "name": "python",
   "nbconvert_exporter": "python",
   "pygments_lexer": "ipython3",
   "version": "3.7.4"
  }
 },
 "nbformat": 4,
 "nbformat_minor": 2
}
