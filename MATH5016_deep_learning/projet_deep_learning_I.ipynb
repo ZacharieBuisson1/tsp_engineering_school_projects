{
 "cells": [
  {
   "cell_type": "code",
   "execution_count": 1,
   "metadata": {},
   "outputs": [
    {
     "ename": "SyntaxError",
     "evalue": "invalid syntax (<ipython-input-1-ac511f05a335>, line 1)",
     "output_type": "error",
     "traceback": [
      "\u001b[1;36m  File \u001b[1;32m\"<ipython-input-1-ac511f05a335>\"\u001b[1;36m, line \u001b[1;32m1\u001b[0m\n\u001b[1;33m    Projet de Zacharie BUISSON, Thomas GUILLET et Julen BIDART\u001b[0m\n\u001b[1;37m            ^\u001b[0m\n\u001b[1;31mSyntaxError\u001b[0m\u001b[1;31m:\u001b[0m invalid syntax\n"
     ]
    }
   ],
   "source": [
    "Projet de Zacharie BUISSON, Thomas GUILLET et Julen BIDART"
   ]
  },
  {
   "cell_type": "markdown",
   "metadata": {
    "colab_type": "text",
    "id": "gG0zv167_67Q"
   },
   "source": [
    "For this notebook you need to install:\n",
    "\n",
    "- `tensorflow`\n",
    "- `keras`\n",
    "- `keras-vis`\n",
    "\n",
    "The easiest way is to first install the `anaconda` distribution for `python` (preferably `Python 3`) and then use in a terminal\n",
    "\n",
    "    conda install pip\n",
    " \n",
    "`pip` is the python package installation tool. Then, you can simply use\n",
    "\n",
    "    pip install tensorflow\n",
    "    pip install keras\n",
    "    pip install keras-vis\n",
    "\n",
    "which should install everything easily.\n",
    "\n",
    "The `numpy` library does some expensive operations outside Python using efficient code (Fortran, C/C++). However, switching back to python after each operation cause a big overhead because of unnecessary copies of the data. \n",
    "\n",
    "The library `tensorflow` does all the computations outside of Python: the python API is used to define a graph of operations, that will run entirely using C++ binaries. This architecture allows to get rid of the overhead. Besides, knowing the computational graph beforehand allows to parallelize and/or distribute the computation more easily. As a result, `tensoflow` can run the computations on multiple CPUs or GPUs, and on multiple servers.\n",
    "\n",
    "However, for quick an easy model prototying, the library `keras` is simpler to use than `tensorflow`. \n",
    "Deep learning models can be constructed thanks to `keras` in few lines of python. So in this notebook, we won't see direct calls to `tensorflow`, but only to `keras`, even if the computations are done by `tensorflow`."
   ]
  },
  {
   "cell_type": "code",
   "execution_count": 3,
   "metadata": {
    "colab": {
     "base_uri": "https://localhost:8080/",
     "height": 54
    },
    "colab_type": "code",
    "executionInfo": {
     "elapsed": 755,
     "status": "ok",
     "timestamp": 1581886212400,
     "user": {
      "displayName": "Zacharie Buisson",
      "photoUrl": "https://lh3.googleusercontent.com/a-/AAuE7mCGkV6Iu1AiznS1Ewgt6KLx2YLodvZOK_mnB0jJ=s64",
      "userId": "11769471287573675446"
     },
     "user_tz": -60
    },
    "id": "dCxBWz7M_67i",
    "outputId": "05cd92a7-49eb-4306-9ac8-dd5513d79664"
   },
   "outputs": [
    {
     "name": "stdout",
     "output_type": "stream",
     "text": [
      "tensorflow version 1.15.0 (should be at least 0.12.1)\n",
      "keras version 2.2.5 (should be at least 2.0.7)\n"
     ]
    }
   ],
   "source": [
    "import numpy as np\n",
    "import matplotlib.pyplot as plt\n",
    "%matplotlib inline\n",
    "\n",
    "import pickle as pkl\n",
    "import os\n",
    "\n",
    "import tensorflow\n",
    "import keras\n",
    "from tensorflow.keras import backend\n",
    "from keras import backend as K\n",
    "from keras.datasets import mnist\n",
    "from keras.models import Sequential\n",
    "from keras.layers import Dense, Dropout, Flatten\n",
    "from keras.layers import Conv2D, MaxPooling2D\n",
    "from keras import activations\n",
    "from tensorflow.python.framework import ops\n",
    "\n",
    "print(\"tensorflow version %s (should be at least 0.12.1)\" % tensorflow.__version__)\n",
    "print(\"keras version %s (should be at least 2.0.7)\" % keras.__version__)"
   ]
  },
  {
   "cell_type": "markdown",
   "metadata": {
    "colab_type": "text",
    "id": "m8HXpMO4_68H"
   },
   "source": [
    "### <font color=darkred> Handwritten digit recognition with MNIST</font>\n",
    "\n",
    "For the first part of this tutorial, we will use the [MNIST](http://yann.lecun.com/exdb/mnist) dataset.\n",
    "This dataset contains images representing handwritten digits. \n",
    "Each image is 28 x 28 pixels, and each pixel is represented by a number (gray level). \n",
    "These arrays can be flattened into vectors of 28 x 28 = 784 numbers.\n",
    "You can then see each image as a point in a 784-dimensional vector space. \n",
    "You can find interesting visualisations of this vector space [http://colah.github.io/posts/2014-10-Visualizing-MNIST/](http://colah.github.io/posts/2014-10-Visualizing-MNIST/).\n",
    "\n",
    "The labels in $\\{0, 1, 2, \\ldots, 9\\}$ giving the digit on the image are be represented using one-hot encoding: labels in $\\{0, 1, 2, \\ldots, 9\\}$ are replaced by labels in $\\{ 0, 1\\}^{10}$, namely $0$ is replaced by $(1, 0, \\ldots 0)$, $1$ is replaced by $(0, 1, 0, \\ldots 0)$, $2$ is replaced by $(0, 0, 1, 0, \\ldots, 0)$, etc.\n",
    "\n",
    "Also, MNIST data is grayscale pixels in $\\{0, \\ldots, 255\\}$. The pixels should be normalized to belong to $[0, 1]$.\n",
    "Indeed, working with big floats can lead to important numerical errors, in particular in deep learning models."
   ]
  },
  {
   "cell_type": "markdown",
   "metadata": {
    "colab_type": "text",
    "id": "q6h608hd_68K"
   },
   "source": [
    "MNIST is a very old and standard benchmark dataset for image classification, so it's built-in (ready to be downloaded) in all machine learning libraries (including `keras` and `tensorflow`)."
   ]
  },
  {
   "cell_type": "code",
   "execution_count": 0,
   "metadata": {
    "colab": {
     "base_uri": "https://localhost:8080/",
     "height": 164
    },
    "colab_type": "code",
    "executionInfo": {
     "elapsed": 3229,
     "status": "ok",
     "timestamp": 1581411400095,
     "user": {
      "displayName": "Zacharie Buisson",
      "photoUrl": "https://lh3.googleusercontent.com/a-/AAuE7mCGkV6Iu1AiznS1Ewgt6KLx2YLodvZOK_mnB0jJ=s64",
      "userId": "11769471287573675446"
     },
     "user_tz": -60
    },
    "id": "2_q5Mvqm_68O",
    "outputId": "dcbec4ed-574f-482e-f43e-deb1c7989687",
    "scrolled": true
   },
   "outputs": [
    {
     "name": "stdout",
     "output_type": "stream",
     "text": [
      "Downloading data from https://s3.amazonaws.com/img-datasets/mnist.npz\n",
      "11493376/11490434 [==============================] - 0s 0us/step\n",
      "x_train shape: (60000, 28, 28, 1)\n",
      "x_test shape: (10000, 28, 28, 1)\n",
      "y_train shape: (60000,)\n",
      "y_test shape: (10000,)\n",
      "60000 train samples\n",
      "10000 test samples\n"
     ]
    }
   ],
   "source": [
    "# Number of classes\n",
    "num_classes = 10\n",
    "# input image dimensions\n",
    "img_rows, img_cols = 28, 28\n",
    "\n",
    "# the data, shuffled and split between train and test sets\n",
    "(x_train, y_train), (x_test, y_test) = mnist.load_data()\n",
    "\n",
    "if K.image_data_format() == 'channels_first':\n",
    "    x_train = x_train.reshape(x_train.shape[0], 1, img_rows, img_cols)\n",
    "    x_test = x_test.reshape(x_test.shape[0], 1, img_rows, img_cols)\n",
    "    input_shape = (1, img_rows, img_cols)\n",
    "else:\n",
    "    x_train = x_train.reshape(x_train.shape[0], img_rows, img_cols, 1)\n",
    "    x_test = x_test.reshape(x_test.shape[0], img_rows, img_cols, 1)\n",
    "    input_shape = (img_rows, img_cols, 1)\n",
    "\n",
    "x_train = x_train.astype('float32')\n",
    "x_test = x_test.astype('float32')\n",
    "\n",
    "print('x_train shape:', x_train.shape)\n",
    "print('x_test shape:', x_test.shape)\n",
    "print('y_train shape:', y_train.shape)\n",
    "print('y_test shape:', y_test.shape)\n",
    "\n",
    "print(x_train.shape[0], 'train samples')\n",
    "print(x_test.shape[0], 'test samples')"
   ]
  },
  {
   "cell_type": "markdown",
   "metadata": {
    "colab_type": "text",
    "id": "nxs2ZL2u_68a"
   },
   "source": [
    "In the next cell we illustrate the first for elements of the training data: \n",
    "pixels grayscale of the digit and their corresponding label."
   ]
  },
  {
   "cell_type": "code",
   "execution_count": 0,
   "metadata": {
    "colab": {
     "base_uri": "https://localhost:8080/",
     "height": 159
    },
    "colab_type": "code",
    "executionInfo": {
     "elapsed": 1092,
     "status": "ok",
     "timestamp": 1581411407304,
     "user": {
      "displayName": "Zacharie Buisson",
      "photoUrl": "https://lh3.googleusercontent.com/a-/AAuE7mCGkV6Iu1AiznS1Ewgt6KLx2YLodvZOK_mnB0jJ=s64",
      "userId": "11769471287573675446"
     },
     "user_tz": -60
    },
    "id": "5llFbp9m_68c",
    "outputId": "82245462-7ca5-444a-debb-8b0c6b65b029",
    "scrolled": true
   },
   "outputs": [
    {
     "data": {
      "image/png": "[encoded data removed]",
      "text/plain": [
       "<Figure size 576x144 with 4 Axes>"
      ]
     },
     "metadata": {
      "tags": []
     },
     "output_type": "display_data"
    }
   ],
   "source": [
    "plt.figure(figsize=(8, 2))\n",
    "for i in range(4):\n",
    "    plt.subplot(1, 4, i+1)\n",
    "    plt.imshow(x_train[i].reshape(28, 28), \n",
    "               interpolation=\"none\", cmap=\"gray_r\")\n",
    "    plt.title('Label=%d' % y_train[i], fontsize=14)\n",
    "    plt.axis(\"off\")\n",
    "plt.tight_layout()"
   ]
  },
  {
   "cell_type": "code",
   "execution_count": 0,
   "metadata": {
    "colab": {
     "base_uri": "https://localhost:8080/",
     "height": 297
    },
    "colab_type": "code",
    "executionInfo": {
     "elapsed": 1669,
     "status": "ok",
     "timestamp": 1581411409806,
     "user": {
      "displayName": "Zacharie Buisson",
      "photoUrl": "https://lh3.googleusercontent.com/a-/AAuE7mCGkV6Iu1AiznS1Ewgt6KLx2YLodvZOK_mnB0jJ=s64",
      "userId": "11769471287573675446"
     },
     "user_tz": -60
    },
    "id": "CNkTcnmr_68n",
    "outputId": "bf096f2f-b118-4b19-cfcd-c6d06091ee93",
    "scrolled": true
   },
   "outputs": [
    {
     "data": {
      "image/png": "[encoded data removed]",
      "text/plain": [
       "<Figure size 576x288 with 32 Axes>"
      ]
     },
     "metadata": {
      "tags": []
     },
     "output_type": "display_data"
    }
   ],
   "source": [
    "n_rows = 4\n",
    "n_cols = 8\n",
    "plt.figure(figsize=(8, 4))\n",
    "for i in range(n_rows * n_cols):\n",
    "    plt.subplot(n_rows, n_cols, i+1)\n",
    "    plt.imshow(x_train[i].reshape(28, 28),\n",
    "               interpolation=\"none\", cmap=\"gray_r\")\n",
    "    plt.axis(\"off\")\n",
    "plt.tight_layout()"
   ]
  },
  {
   "cell_type": "markdown",
   "metadata": {
    "colab_type": "text",
    "id": "EtBaawZ1_68z"
   },
   "source": [
    "The first character is a 5 digit, encoded in grayscale matrix."
   ]
  },
  {
   "cell_type": "markdown",
   "metadata": {
    "colab_type": "text",
    "id": "KRbnPuVm_682"
   },
   "source": [
    "We need to normalize the images and one-hot encode the labels."
   ]
  },
  {
   "cell_type": "code",
   "execution_count": 0,
   "metadata": {
    "colab": {},
    "colab_type": "code",
    "id": "M9BPr3KS_685"
   },
   "outputs": [],
   "source": [
    "x_train /= 255\n",
    "x_test /= 255"
   ]
  },
  {
   "cell_type": "code",
   "execution_count": 0,
   "metadata": {
    "colab": {
     "base_uri": "https://localhost:8080/",
     "height": 201
    },
    "colab_type": "code",
    "executionInfo": {
     "elapsed": 694,
     "status": "ok",
     "timestamp": 1581411414630,
     "user": {
      "displayName": "Zacharie Buisson",
      "photoUrl": "https://lh3.googleusercontent.com/a-/AAuE7mCGkV6Iu1AiznS1Ewgt6KLx2YLodvZOK_mnB0jJ=s64",
      "userId": "11769471287573675446"
     },
     "user_tz": -60
    },
    "id": "rUAxDopM_69B",
    "outputId": "efe06202-52b2-4513-d529-0f677673c0a2"
   },
   "outputs": [
    {
     "data": {
      "text/plain": [
       "array([[0., 0., 0., 0., 0., 1., 0., 0., 0., 0.],\n",
       "       [1., 0., 0., 0., 0., 0., 0., 0., 0., 0.],\n",
       "       [0., 0., 0., 0., 1., 0., 0., 0., 0., 0.],\n",
       "       [0., 1., 0., 0., 0., 0., 0., 0., 0., 0.],\n",
       "       [0., 0., 0., 0., 0., 0., 0., 0., 0., 1.],\n",
       "       [0., 0., 1., 0., 0., 0., 0., 0., 0., 0.],\n",
       "       [0., 1., 0., 0., 0., 0., 0., 0., 0., 0.],\n",
       "       [0., 0., 0., 1., 0., 0., 0., 0., 0., 0.],\n",
       "       [0., 1., 0., 0., 0., 0., 0., 0., 0., 0.],\n",
       "       [0., 0., 0., 0., 1., 0., 0., 0., 0., 0.]], dtype=float32)"
      ]
     },
     "execution_count": 6,
     "metadata": {
      "tags": []
     },
     "output_type": "execute_result"
    }
   ],
   "source": [
    "# convert class vectors to binary class matrices\n",
    "y_train = keras.utils.to_categorical(y_train, num_classes)\n",
    "y_test = keras.utils.to_categorical(y_test, num_classes)\n",
    "y_train[:10]"
   ]
  },
  {
   "cell_type": "markdown",
   "metadata": {
    "colab_type": "text",
    "id": "KwfqrMZe_69L"
   },
   "source": [
    "### <font color=darkred> Softmax regression for MNIST</font>\n",
    "\n",
    "Logistic regression can be extended to classify data in more than two groups. Softmax regression provides a model for the probability that an input $x$ is associated with each group.  It is assumed that the probability to belong to the class $k\\in\\{1,\\ldots,M\\}$ can be expressed by \n",
    "\\begin{equation*}\n",
    "\\mathbb{P}(Y = k| X) = \\frac{\\exp(\\langle w_k,X \\rangle + b_k)}{\\sum_{\\ell=1}^{M}\\exp(\\langle w_\\ell,X \\rangle + b_\\ell)} = p_k(X)\\,,\n",
    "\\end{equation*}\n",
    "where $w_\\ell \\in \\mathbb{R}^d$ and $b_\\ell$  are model `weights` and `intercepts` for each class.\n",
    "\n",
    "\n",
    "To estimate these unknown parameters, a maximum likelihood approach is used as in the logistic regression setting. In this case, the loss function is given by the negative log-likelihood (see also the section on gradient based method)."
   ]
  },
  {
   "cell_type": "markdown",
   "metadata": {
    "colab_type": "text",
    "id": "0feI7oy__69P"
   },
   "source": [
    "To train the model weights $W_{k, j}$ and $b_k$ for $k=1, \\ldots, 10$ and $j=1, \\ldots, 784$, we consider the loss function given by the negative log-likelihood.\n",
    "For the considered model, the negative log-likelihood of a sample with input $x_i \\in \\mathbb R^{784}$ and label $y_i \\in \\{0, 1\\}^{10}$, it is given by the cross-entropy between the scores $p_k(x_i)$ and the label $y_i$:\n",
    "$$\n",
    "- \\sum_{k=1}^{10} y_{i, k} \\log(p_k(x_i))\n",
    "$$\n",
    "For this first model, we will simply use stochastic gradient descent over small batches of data. It can be done easily with TensorFlow, as it will automatically and efficiently compute the gradient from your graph, then apply an optimization algorithm of your choice to perform the parameters update."
   ]
  },
  {
   "cell_type": "code",
   "execution_count": 0,
   "metadata": {
    "colab": {
     "base_uri": "https://localhost:8080/",
     "height": 421
    },
    "colab_type": "code",
    "executionInfo": {
     "elapsed": 750,
     "status": "ok",
     "timestamp": 1581411453393,
     "user": {
      "displayName": "Zacharie Buisson",
      "photoUrl": "https://lh3.googleusercontent.com/a-/AAuE7mCGkV6Iu1AiznS1Ewgt6KLx2YLodvZOK_mnB0jJ=s64",
      "userId": "11769471287573675446"
     },
     "user_tz": -60
    },
    "id": "aY3WUddo_69Q",
    "outputId": "cfc99d8c-2358-461c-c0dc-485a78d51d78",
    "scrolled": true
   },
   "outputs": [
    {
     "name": "stdout",
     "output_type": "stream",
     "text": [
      "WARNING:tensorflow:From /usr/local/lib/python3.6/dist-packages/keras/backend/tensorflow_backend.py:66: The name tf.get_default_graph is deprecated. Please use tf.compat.v1.get_default_graph instead.\n",
      "\n",
      "WARNING:tensorflow:From /usr/local/lib/python3.6/dist-packages/keras/backend/tensorflow_backend.py:541: The name tf.placeholder is deprecated. Please use tf.compat.v1.placeholder instead.\n",
      "\n",
      "WARNING:tensorflow:From /usr/local/lib/python3.6/dist-packages/keras/backend/tensorflow_backend.py:4432: The name tf.random_uniform is deprecated. Please use tf.random.uniform instead.\n",
      "\n",
      "WARNING:tensorflow:From /usr/local/lib/python3.6/dist-packages/keras/optimizers.py:793: The name tf.train.Optimizer is deprecated. Please use tf.compat.v1.train.Optimizer instead.\n",
      "\n",
      "WARNING:tensorflow:From /usr/local/lib/python3.6/dist-packages/keras/backend/tensorflow_backend.py:3576: The name tf.log is deprecated. Please use tf.math.log instead.\n",
      "\n",
      "Model: \"sequential_1\"\n",
      "_________________________________________________________________\n",
      "Layer (type)                 Output Shape              Param #   \n",
      "=================================================================\n",
      "flatten (Flatten)            (None, 784)               0         \n",
      "_________________________________________________________________\n",
      "dense_softmax (Dense)        (None, 10)                7850      \n",
      "=================================================================\n",
      "Total params: 7,850\n",
      "Trainable params: 7,850\n",
      "Non-trainable params: 0\n",
      "_________________________________________________________________\n"
     ]
    }
   ],
   "source": [
    "model = Sequential()\n",
    "# First we need to flatten the data: replace 28 * 28 matrices by flat vectors\n",
    "# This is always necessary before feeding data to a fully-connected layer (Dense object)\n",
    "model.add(Flatten(input_shape=input_shape, name='flatten'))\n",
    "\n",
    "model.add(Dense(num_classes, activation='softmax', name='dense_softmax'))\n",
    "\n",
    "model.compile(\n",
    "    # specify the loss as the cross-entropy\n",
    "    loss=keras.losses.categorical_crossentropy,\n",
    "    # choose the Adagrad solver, but you can choose others\n",
    "    optimizer=keras.optimizers.Adagrad(),\n",
    "    # to monitor the accuracy on a testing set along optimization\n",
    "    metrics=['accuracy']\n",
    ")\n",
    "model.summary()"
   ]
  },
  {
   "cell_type": "code",
   "execution_count": 0,
   "metadata": {
    "colab": {
     "base_uri": "https://localhost:8080/",
     "height": 439
    },
    "colab_type": "code",
    "executionInfo": {
     "elapsed": 10376,
     "status": "ok",
     "timestamp": 1581411679402,
     "user": {
      "displayName": "Zacharie Buisson",
      "photoUrl": "https://lh3.googleusercontent.com/a-/AAuE7mCGkV6Iu1AiznS1Ewgt6KLx2YLodvZOK_mnB0jJ=s64",
      "userId": "11769471287573675446"
     },
     "user_tz": -60
    },
    "id": "Qb0fLP30_69Y",
    "outputId": "15525a4e-2987-4b7c-d0d4-6160e875cf00",
    "scrolled": false
   },
   "outputs": [
    {
     "name": "stdout",
     "output_type": "stream",
     "text": [
      "Train on 60000 samples, validate on 10000 samples\n",
      "Epoch 1/10\n",
      "60000/60000 [==============================] - 1s 17us/step - loss: 0.2755 - acc: 0.9234 - val_loss: 0.2756 - val_acc: 0.9233\n",
      "Epoch 2/10\n",
      "60000/60000 [==============================] - 1s 16us/step - loss: 0.2753 - acc: 0.9234 - val_loss: 0.2754 - val_acc: 0.9235\n",
      "Epoch 3/10\n",
      "60000/60000 [==============================] - 1s 16us/step - loss: 0.2750 - acc: 0.9236 - val_loss: 0.2752 - val_acc: 0.9232\n",
      "Epoch 4/10\n",
      "60000/60000 [==============================] - 1s 16us/step - loss: 0.2747 - acc: 0.9235 - val_loss: 0.2750 - val_acc: 0.9235\n",
      "Epoch 5/10\n",
      "60000/60000 [==============================] - 1s 16us/step - loss: 0.2744 - acc: 0.9238 - val_loss: 0.2748 - val_acc: 0.9236\n",
      "Epoch 6/10\n",
      "60000/60000 [==============================] - 1s 16us/step - loss: 0.2741 - acc: 0.9239 - val_loss: 0.2746 - val_acc: 0.9234\n",
      "Epoch 7/10\n",
      "60000/60000 [==============================] - 1s 16us/step - loss: 0.2739 - acc: 0.9241 - val_loss: 0.2744 - val_acc: 0.9238\n",
      "Epoch 8/10\n",
      "60000/60000 [==============================] - 1s 16us/step - loss: 0.2736 - acc: 0.9240 - val_loss: 0.2742 - val_acc: 0.9237\n",
      "Epoch 9/10\n",
      "60000/60000 [==============================] - 1s 15us/step - loss: 0.2733 - acc: 0.9240 - val_loss: 0.2741 - val_acc: 0.9237\n",
      "Epoch 10/10\n",
      "60000/60000 [==============================] - 1s 16us/step - loss: 0.2731 - acc: 0.9241 - val_loss: 0.2739 - val_acc: 0.9233\n",
      "Test loss: 0.27388765515983104\n",
      "Test accuracy: 0.9233\n"
     ]
    }
   ],
   "source": [
    "batch_size = 150\n",
    "epochs = 10\n",
    "\n",
    "# Run the train\n",
    "history = model.fit(x_train, y_train,\n",
    "                    batch_size=batch_size,\n",
    "                    epochs=epochs,\n",
    "                    verbose=1,\n",
    "                    validation_data=(x_test, y_test))\n",
    "score = model.evaluate(x_test, y_test, verbose=0)\n",
    "print('Test loss:', score[0])\n",
    "print('Test accuracy:', score[1])"
   ]
  },
  {
   "cell_type": "code",
   "execution_count": 0,
   "metadata": {
    "colab": {
     "base_uri": "https://localhost:8080/",
     "height": 369
    },
    "colab_type": "code",
    "executionInfo": {
     "elapsed": 1078,
     "status": "ok",
     "timestamp": 1581411685611,
     "user": {
      "displayName": "Zacharie Buisson",
      "photoUrl": "https://lh3.googleusercontent.com/a-/AAuE7mCGkV6Iu1AiznS1Ewgt6KLx2YLodvZOK_mnB0jJ=s64",
      "userId": "11769471287573675446"
     },
     "user_tz": -60
    },
    "id": "QZZXdEoK_69k",
    "outputId": "decbd1e2-4c6c-424a-84a9-74c49e39ffae",
    "scrolled": false
   },
   "outputs": [
    {
     "data": {
      "image/png": "[encoded data removed]",
      "text/plain": [
       "<Figure size 504x360 with 1 Axes>"
      ]
     },
     "metadata": {
      "tags": []
     },
     "output_type": "display_data"
    }
   ],
   "source": [
    "plt.figure(figsize=(7, 5))\n",
    "plt.plot(history.epoch, history.history['acc'], lw=3, label='Training')\n",
    "plt.plot(history.epoch, history.history['val_acc'], lw=3, label='Testing')\n",
    "plt.legend(fontsize=14)\n",
    "plt.title('Accuracy of softmax regression', fontsize=16)\n",
    "plt.xlabel('Epoch', fontsize=14)\n",
    "plt.ylabel('Accuracy', fontsize=14)\n",
    "plt.tight_layout()"
   ]
  },
  {
   "cell_type": "markdown",
   "metadata": {
    "colab_type": "text",
    "id": "3oUZu7of_69s"
   },
   "source": [
    "**Question**\n",
    "\n",
    "Run a cross-validation to analyze the influence of the number of epochs and the batch-size."
   ]
  },
  {
   "cell_type": "markdown",
   "metadata": {
    "colab_type": "text",
    "id": "vrpkj_0__69v"
   },
   "source": [
    "Weight matrices plots show that the learned weights are consistant with the digits they should predict (see below).\n",
    "You should be able to see rough shapes corresponding to the digits 0, 1, 2, 3, etc."
   ]
  },
  {
   "cell_type": "markdown",
   "metadata": {
    "colab_type": "text",
    "id": "A9oz_NaRe-68"
   },
   "source": [
    "**Réponse**\n",
    "\n",
    "Pour cette partie, on change la valeur des deux paramètres que l'on peut lire au début de la partie, à savoir le paramètre \"batch_size\" et le paramètre \"epochs\".\n",
    "Lorsque l'on change la valeur de epochs, on change en réalité le nombre de fois où l'on va faire l'analyse. Ainsi, la précision devient plus grande quand on augmente cela. De même, lorsque l'on change la valeur de batch_size, on change en réalité la taille de l'échantillon. Ainsi, on se retrouve avec un apprentissage qui se fait sur un plus grand nombres d'éléments, et on peut donc avoir une adaptativité plus grande.\n"
   ]
  },
  {
   "cell_type": "code",
   "execution_count": 0,
   "metadata": {
    "colab": {
     "base_uri": "https://localhost:8080/",
     "height": 346
    },
    "colab_type": "code",
    "executionInfo": {
     "elapsed": 1000,
     "status": "ok",
     "timestamp": 1581411692064,
     "user": {
      "displayName": "Zacharie Buisson",
      "photoUrl": "https://lh3.googleusercontent.com/a-/AAuE7mCGkV6Iu1AiznS1Ewgt6KLx2YLodvZOK_mnB0jJ=s64",
      "userId": "11769471287573675446"
     },
     "user_tz": -60
    },
    "id": "5wVwRaSi_69z",
    "outputId": "a36e4b1f-c4cd-4efd-94b1-d831f6e8b2c4"
   },
   "outputs": [
    {
     "data": {
      "image/png": "[encoded data removed]",
      "text/plain": [
       "<Figure size 720x360 with 10 Axes>"
      ]
     },
     "metadata": {
      "tags": []
     },
     "output_type": "display_data"
    }
   ],
   "source": [
    "weights, biases = model.get_layer('dense_softmax').get_weights()\n",
    "imgs = weights.reshape(28, 28, 10)\n",
    "\n",
    "fig = plt.figure(figsize=(10, 5))\n",
    "vmin, vmax = imgs.min(), imgs.max()\n",
    "for i in range(10):\n",
    "    ax = plt.subplot(2, 5, i + 1)\n",
    "    im = imgs[:, :, i]\n",
    "    mappable = ax.imshow(im, interpolation=\"nearest\", \n",
    "                         vmin=vmin, vmax=vmax, cmap='bwr')\n",
    "    ax.axis('off')\n",
    "    ax.set_title(\"%i\" % i)\n",
    "plt.tight_layout()"
   ]
  },
  {
   "cell_type": "markdown",
   "metadata": {
    "colab_type": "text",
    "id": "2Rq9ro0O_696"
   },
   "source": [
    "### <font color=darkred> Feed-Forward Neural Network (FFNN)</font>\n",
    "\n",
    "The softmax regression you just trained is a linear model, with 7850 parameters. \n",
    "It is easy to fit, numerically stable, but might be too simple for some tasks. \n",
    "The idea behind neural networks is to have a nonlinear model, while keeping the nice features of linear ones. \n",
    "The idea is to keep parameters into linear functions, and link these small linear model using non linear operations.\n",
    "\n",
    "A simple nonlinearity which is often used to do this is the rectified linear unit\n",
    "$\\text{ReLU}(x) = \\max(0, x)$\n",
    "\n",
    "The derivative of this function is very easy to compute, and it is parameter-free. If we stack models such as softmax regression and ReLUs, it is still very easy to compute the gradient using the chain rule, as the model is a combination of simple functions.\n",
    "\n",
    "The backpropagation algorithm allows efficient computation of complex derivatives as long as the function is made of simple blocks with simple derivatives. \n",
    "This algorithm efficiency is based on data reuse: when working with parallel architectures such as GPUs, you want to minimize communication (data transfer) as it is very time consuming in comparison to the computing time.\n",
    "\n",
    "**Question**\n",
    "\n",
    "Create the graph for a fully connected feed-forward neural network with one hidden layer with 128 units and a relu activation function. "
   ]
  },
  {
   "cell_type": "code",
   "execution_count": 0,
   "metadata": {
    "colab": {
     "base_uri": "https://localhost:8080/",
     "height": 274
    },
    "colab_type": "code",
    "executionInfo": {
     "elapsed": 726,
     "status": "ok",
     "timestamp": 1581412771937,
     "user": {
      "displayName": "Zacharie Buisson",
      "photoUrl": "https://lh3.googleusercontent.com/a-/AAuE7mCGkV6Iu1AiznS1Ewgt6KLx2YLodvZOK_mnB0jJ=s64",
      "userId": "11769471287573675446"
     },
     "user_tz": -60
    },
    "id": "HWfpLrlQ_699",
    "outputId": "b94f5d4c-38df-48ae-987b-2c315d1f81ca"
   },
   "outputs": [
    {
     "name": "stdout",
     "output_type": "stream",
     "text": [
      "Model: \"sequential_3\"\n",
      "_________________________________________________________________\n",
      "Layer (type)                 Output Shape              Param #   \n",
      "=================================================================\n",
      "flatten_2 (Flatten)          (None, 784)               0         \n",
      "_________________________________________________________________\n",
      "dense_3 (Dense)              (None, 128)               100480    \n",
      "_________________________________________________________________\n",
      "dense_4 (Dense)              (None, 10)                1290      \n",
      "=================================================================\n",
      "Total params: 101,770\n",
      "Trainable params: 101,770\n",
      "Non-trainable params: 0\n",
      "_________________________________________________________________\n"
     ]
    }
   ],
   "source": [
    "model_ffnn = Sequential()\n",
    "\n",
    "model_ffnn.add(Flatten(input_shape=input_shape))\n",
    "model_ffnn.add(Dense(128, activation='relu')) #Ajout numéro 1\n",
    "model_ffnn.add(Dense(num_classes, activation='softmax')) #La dernière couche ici, un vecteur avec le nombre de classe \n",
    "#plus avec softmax\n",
    "\n",
    "model_ffnn.compile(\n",
    "    loss=keras.losses.categorical_crossentropy,\n",
    "    optimizer=keras.optimizers.Adagrad(),\n",
    "    metrics=['accuracy']\n",
    ")\n",
    "\n",
    "model_ffnn.summary()"
   ]
  },
  {
   "cell_type": "code",
   "execution_count": 0,
   "metadata": {
    "colab": {
     "base_uri": "https://localhost:8080/",
     "height": 439
    },
    "colab_type": "code",
    "executionInfo": {
     "elapsed": 58953,
     "status": "ok",
     "timestamp": 1581412837328,
     "user": {
      "displayName": "Zacharie Buisson",
      "photoUrl": "https://lh3.googleusercontent.com/a-/AAuE7mCGkV6Iu1AiznS1Ewgt6KLx2YLodvZOK_mnB0jJ=s64",
      "userId": "11769471287573675446"
     },
     "user_tz": -60
    },
    "id": "d0_7-PK5_6-E",
    "outputId": "9ddc9470-f139-458f-d65c-6f0e6f8b4a69",
    "scrolled": false
   },
   "outputs": [
    {
     "name": "stdout",
     "output_type": "stream",
     "text": [
      "Train on 60000 samples, validate on 10000 samples\n",
      "Epoch 1/10\n",
      "60000/60000 [==============================] - 6s 102us/step - loss: 0.2681 - acc: 0.9235 - val_loss: 0.1948 - val_acc: 0.9459\n",
      "Epoch 2/10\n",
      "60000/60000 [==============================] - 6s 96us/step - loss: 0.1676 - acc: 0.9533 - val_loss: 0.1562 - val_acc: 0.9555\n",
      "Epoch 3/10\n",
      "60000/60000 [==============================] - 6s 96us/step - loss: 0.1403 - acc: 0.9608 - val_loss: 0.1373 - val_acc: 0.9603\n",
      "Epoch 4/10\n",
      "60000/60000 [==============================] - 6s 99us/step - loss: 0.1237 - acc: 0.9659 - val_loss: 0.1257 - val_acc: 0.9644\n",
      "Epoch 5/10\n",
      "60000/60000 [==============================] - 6s 97us/step - loss: 0.1122 - acc: 0.9688 - val_loss: 0.1199 - val_acc: 0.9659\n",
      "Epoch 6/10\n",
      "60000/60000 [==============================] - 6s 97us/step - loss: 0.1036 - acc: 0.9713 - val_loss: 0.1131 - val_acc: 0.9677\n",
      "Epoch 7/10\n",
      "60000/60000 [==============================] - 6s 95us/step - loss: 0.0965 - acc: 0.9735 - val_loss: 0.1074 - val_acc: 0.9691\n",
      "Epoch 8/10\n",
      "60000/60000 [==============================] - 6s 96us/step - loss: 0.0906 - acc: 0.9753 - val_loss: 0.1034 - val_acc: 0.9704\n",
      "Epoch 9/10\n",
      "60000/60000 [==============================] - 6s 97us/step - loss: 0.0858 - acc: 0.9768 - val_loss: 0.1012 - val_acc: 0.9695\n",
      "Epoch 10/10\n",
      "60000/60000 [==============================] - 5s 92us/step - loss: 0.0815 - acc: 0.9780 - val_loss: 0.0990 - val_acc: 0.9707\n",
      "Test loss: 0.09904278856180608\n",
      "Test accuracy: 0.9707\n"
     ]
    }
   ],
   "source": [
    "batch_size = 32\n",
    "epochs = 10\n",
    "\n",
    "# Run the train\n",
    "history = model_ffnn.fit(x_train, y_train,\n",
    "                         batch_size=batch_size,\n",
    "                         epochs=epochs,\n",
    "                         verbose=1,\n",
    "                         validation_data=(x_test, y_test))\n",
    "score = model_ffnn.evaluate(x_test, y_test, verbose=0)\n",
    "print('Test loss:', score[0])\n",
    "print('Test accuracy:', score[1])"
   ]
  },
  {
   "cell_type": "code",
   "execution_count": 0,
   "metadata": {
    "colab": {
     "base_uri": "https://localhost:8080/",
     "height": 369
    },
    "colab_type": "code",
    "executionInfo": {
     "elapsed": 982,
     "status": "ok",
     "timestamp": 1581412407575,
     "user": {
      "displayName": "Zacharie Buisson",
      "photoUrl": "https://lh3.googleusercontent.com/a-/AAuE7mCGkV6Iu1AiznS1Ewgt6KLx2YLodvZOK_mnB0jJ=s64",
      "userId": "11769471287573675446"
     },
     "user_tz": -60
    },
    "id": "u1539Ki2_6-N",
    "outputId": "bebd4eaf-226c-4531-9548-900f070058a0",
    "scrolled": false
   },
   "outputs": [
    {
     "data": {
      "image/png": "[encoded data removed]",
      "text/plain": [
       "<Figure size 504x360 with 1 Axes>"
      ]
     },
     "metadata": {
      "tags": []
     },
     "output_type": "display_data"
    }
   ],
   "source": [
    "plt.figure(figsize=(7, 5))\n",
    "plt.plot(history.epoch, history.history['acc'], lw=3, label='Training')\n",
    "plt.plot(history.epoch, history.history['val_acc'], lw=3, label='Testing')\n",
    "plt.legend(fontsize=14)\n",
    "plt.title('Accuracy of softmax regression', fontsize=16)\n",
    "plt.xlabel('Epoch', fontsize=14)\n",
    "plt.ylabel('Accuracy', fontsize=14)\n",
    "plt.tight_layout()"
   ]
  },
  {
   "cell_type": "markdown",
   "metadata": {
    "colab_type": "text",
    "id": "j6cecOki_6-W"
   },
   "source": [
    "**Question**\n",
    "\n",
    "Run a cross-validation to analyze the influence of the the number of units of the hidden layer, the number of epochs and the batch-size."
   ]
  },
  {
   "cell_type": "markdown",
   "metadata": {
    "colab_type": "text",
    "id": "MVVReR8kho25"
   },
   "source": [
    "**Réponse**\n",
    "\n",
    "On peut regarder l'influence de ces trois paramètres :\n",
    "\n",
    "*   Le paramètre \"number of unit of the hidden layer\" correspond au nombre de couche que l'on va utiliser avec la couche. Plus le nombre est grand, plus l'analyse sera longue. Toutefois, on peut tester avec une valeur plus élevée et l'on aura une précision plus grande.\n",
    "*   Ensuite on peut faire varier le paramètre \"epoch\" : encore une fois, il sera plus long de trouver le résultat mais celui-ci sera plus précis quand on augmente la valeur du paramètre.\n",
    "*   Enfin, on peut analyser la valeur de batch-size : encore une fois, l'augmentation de la valeur de ce paramètre augmente la valeur de la précision donnée par \"test_accuary\" mais cela rend le traitement plus.\n",
    "\n",
    "\n"
   ]
  },
  {
   "cell_type": "markdown",
   "metadata": {
    "colab_type": "text",
    "id": "eqSAWM4c_6-a"
   },
   "source": [
    "### <font color=darkred> Convolutional Neural Networks </font>\n",
    "\n",
    "In practice, increasing the size of hidden layers is not very effective. \n",
    "It is often a better idea to add more layers. \n",
    "Intuitively, if the observations have a hierarchical structure, adding more layers can be interpreted as a way to learn more levels of abstraction.  For example, in object detection tasks, it is easier to express shapes from edges and objects from shapes, than to express objects from pixels.  Thus, a good design should try to exploit this hierarchy.\n",
    "\n",
    "In particular cases, such as grid-like data (time series, images), the observations can depend on a pattern which can be associated with different locations of the data. \n",
    "For example, an object can be in the middle or the left of the picture. \n",
    "Thus, the model has to be translation invariant: it is easier to learn how to recognize an object independently of its location. \n",
    "\n",
    "When two inputs might contain the same kind of information, then it is useful to share their weights and estimate the weights jointly for those inputs to learn statistical invariants (things that don't change much on average across time or space). \n",
    "Using this concept on images leads to convolutional neural networks (CNNs), on text, it results on recurrent neural networks (RNNs).  When using CNNs, weights are set to a small kernel that is used to perform a convolution across the image.\n",
    "\n",
    "In the previous example, the step ``model_ffnn.add(Flatten(input_shape=input_shape))`` destroys the spatial organization of the input but is mandatory before the fully connected step: ``model_ffnn.add(Dense(128, activation='relu'))``. The spatial organization of the input may be preserved before using Flatten by convolution steps such as ``model_cnn.add(Conv2D(32, kernel_size=(3, 3), activation='relu', input_shape=input_shape))``. This layer has 32 outputs, each of which depending on a 3*3 weight matrix.\n",
    "\n",
    "Each output neuron of the next layer is computed as follows (image taken from https://adventuresinmachinelearning.com/convolutional-neural-networks-tutorial-tensorflow/) before computing an elementwise RELU function:\n",
    "<img src=\"conv.PNG\">\n",
    "\n",
    "The convolution maps patches of the input image, combined with the convolution kernel, for example\n",
    "$$\n",
    "\\text{output} = \\text{ReLU}(\\text{patch} \\times W + b)\\,.\n",
    "$$\n",
    "\n",
    "Performing the convolution between the image and the weight matrix consists in moving the kernel across the image, and to produce an output for each patch. The way you move across the image is defined by two parameters:\n",
    "\n",
    "- ``Stride``: the stride is the number of pixels you are shifting each time you move your kernel during the convolution.\n",
    "- ``Padding``: defines what happens when the kernel reaches a border of the image when doing the convolution. \n",
    "\"Valid\" padding means that you stop at the edge, while \"Same\" padding allows to go off the edge and pad with zeros so that the width and the height of the output and input tensors are the same.\n",
    "\n",
    "A classical approach is to use a stride of 1 and to combine theoutputs being in some neighborhood. Such an operation combining elements of a tensor is called ``pooling``: ``model_cnn.add(MaxPooling2D(pool_size=(2, 2)))``. Neighborhoods are define by the pooling window dimension (width x height) and the strides you use when moving this window across the image.  Again, a sliding window is applied along the input to produce the output, the most common function applied on each window being the ma function: it aggregates several outputs in a neighborhood $N$ using a max operation: \n",
    "$$\n",
    "\\text{output}'_i = \\max_{j \\in N}\\text{output}_j, \\quad i \\in N.\n",
    "$$\n",
    "The formulas to compute the size of the ouput tensor are the same as for convolution padding and striding: (image taken from https://adventuresinmachinelearning.com/convolutional-neural-networks-tutorial-tensorflow/):\n",
    "<img src=\"maxpool.PNG\">"
   ]
  },
  {
   "cell_type": "code",
   "execution_count": 0,
   "metadata": {
    "colab": {
     "base_uri": "https://localhost:8080/",
     "height": 384
    },
    "colab_type": "code",
    "executionInfo": {
     "elapsed": 673,
     "status": "ok",
     "timestamp": 1581413420566,
     "user": {
      "displayName": "Zacharie Buisson",
      "photoUrl": "https://lh3.googleusercontent.com/a-/AAuE7mCGkV6Iu1AiznS1Ewgt6KLx2YLodvZOK_mnB0jJ=s64",
      "userId": "11769471287573675446"
     },
     "user_tz": -60
    },
    "id": "YadYVn29_6-c",
    "outputId": "38cc1cdb-99cf-4c50-e7ef-aad914919d41",
    "scrolled": false
   },
   "outputs": [
    {
     "name": "stdout",
     "output_type": "stream",
     "text": [
      "WARNING:tensorflow:From /usr/local/lib/python3.6/dist-packages/keras/backend/tensorflow_backend.py:4267: The name tf.nn.max_pool is deprecated. Please use tf.nn.max_pool2d instead.\n",
      "\n",
      "Model: \"sequential_4\"\n",
      "_________________________________________________________________\n",
      "Layer (type)                 Output Shape              Param #   \n",
      "=================================================================\n",
      "conv2d_1 (Conv2D)            (None, 26, 26, 32)        320       \n",
      "_________________________________________________________________\n",
      "max_pooling2d_1 (MaxPooling2 (None, 13, 13, 32)        0         \n",
      "_________________________________________________________________\n",
      "conv2d_2 (Conv2D)            (None, 11, 11, 32)        9248      \n",
      "_________________________________________________________________\n",
      "flatten (Flatten)            (None, 3872)              0         \n",
      "_________________________________________________________________\n",
      "dense_5 (Dense)              (None, 10)                38730     \n",
      "=================================================================\n",
      "Total params: 48,298\n",
      "Trainable params: 48,298\n",
      "Non-trainable params: 0\n",
      "_________________________________________________________________\n"
     ]
    }
   ],
   "source": [
    "model_cnn = Sequential()\n",
    "\n",
    "model_cnn.add(Conv2D(32,kernel_size=(3, 3), activation='relu', input_shape=input_shape))#On sort une matrice des moyennes des 32 matrices\n",
    "model_cnn.add(MaxPooling2D(pool_size=(2,2)))\n",
    "model_cnn.add(Conv2D(32,kernel_size=(3,3),activation='relu', input_shape=input_shape))\n",
    "#model_cnn.add(Conv2D(32,kernel_size=(1,1),activation='relu', input_shape=input_shape)) #Pour des convolutions en 3D généralement\n",
    "\n",
    "model_cnn.add(Flatten(input_shape=input_shape, name='flatten')) #Applatir la matrice des moyennes\n",
    "model_cnn.add(Dense(num_classes, activation='softmax'))#Fonction d'activation softmax, on veut 10 sorties à la fin\n",
    "\n",
    "                    \n",
    "model_cnn.compile(loss=keras.losses.categorical_crossentropy,\n",
    "                  optimizer=keras.optimizers.Adadelta(),\n",
    "                  metrics=['accuracy'])\n",
    "\n",
    "model_cnn.summary()"
   ]
  },
  {
   "cell_type": "code",
   "execution_count": 0,
   "metadata": {
    "colab": {
     "base_uri": "https://localhost:8080/",
     "height": 256
    },
    "colab_type": "code",
    "executionInfo": {
     "elapsed": 235293,
     "status": "ok",
     "timestamp": 1581413660281,
     "user": {
      "displayName": "Zacharie Buisson",
      "photoUrl": "https://lh3.googleusercontent.com/a-/AAuE7mCGkV6Iu1AiznS1Ewgt6KLx2YLodvZOK_mnB0jJ=s64",
      "userId": "11769471287573675446"
     },
     "user_tz": -60
    },
    "id": "8n7jYvTr_6-j",
    "outputId": "878fe398-9676-401b-8b7f-85da9cc69e08",
    "scrolled": true
   },
   "outputs": [
    {
     "name": "stdout",
     "output_type": "stream",
     "text": [
      "Train on 60000 samples, validate on 10000 samples\n",
      "Epoch 1/5\n",
      "60000/60000 [==============================] - 46s 769us/step - loss: 0.1649 - acc: 0.9503 - val_loss: 0.0582 - val_acc: 0.9821\n",
      "Epoch 2/5\n",
      "60000/60000 [==============================] - 46s 769us/step - loss: 0.0638 - acc: 0.9811 - val_loss: 0.0439 - val_acc: 0.9851\n",
      "Epoch 3/5\n",
      "60000/60000 [==============================] - 47s 777us/step - loss: 0.0505 - acc: 0.9851 - val_loss: 0.0365 - val_acc: 0.9876\n",
      "Epoch 4/5\n",
      "60000/60000 [==============================] - 47s 783us/step - loss: 0.0408 - acc: 0.9880 - val_loss: 0.0364 - val_acc: 0.9891\n",
      "Epoch 5/5\n",
      "60000/60000 [==============================] - 46s 773us/step - loss: 0.0363 - acc: 0.9898 - val_loss: 0.0354 - val_acc: 0.9889\n",
      "Test loss: 0.03541457466912689\n",
      "Test accuracy: 0.9889\n"
     ]
    }
   ],
   "source": [
    "batch_size = 32\n",
    "epochs = 5\n",
    "\n",
    "# Run the train\n",
    "history = model_cnn.fit(x_train, y_train,\n",
    "                        batch_size=batch_size,\n",
    "                        epochs=epochs,\n",
    "                        verbose=1,\n",
    "                        validation_data=(x_test, y_test))\n",
    "score = model_cnn.evaluate(x_test, y_test, verbose=0)\n",
    "print('Test loss:', score[0])\n",
    "print('Test accuracy:', score[1])"
   ]
  },
  {
   "cell_type": "code",
   "execution_count": 0,
   "metadata": {
    "colab": {
     "base_uri": "https://localhost:8080/",
     "height": 369
    },
    "colab_type": "code",
    "executionInfo": {
     "elapsed": 1093,
     "status": "ok",
     "timestamp": 1581413682700,
     "user": {
      "displayName": "Zacharie Buisson",
      "photoUrl": "https://lh3.googleusercontent.com/a-/AAuE7mCGkV6Iu1AiznS1Ewgt6KLx2YLodvZOK_mnB0jJ=s64",
      "userId": "11769471287573675446"
     },
     "user_tz": -60
    },
    "id": "nisLt0Yc_6-s",
    "outputId": "2feb14e6-79f7-4aa5-cc34-95b2c27c05dc",
    "scrolled": false
   },
   "outputs": [
    {
     "data": {
      "image/png": "[encoded data removed]",
      "text/plain": [
       "<Figure size 504x360 with 1 Axes>"
      ]
     },
     "metadata": {
      "tags": []
     },
     "output_type": "display_data"
    }
   ],
   "source": [
    "plt.figure(figsize=(7, 5))\n",
    "plt.plot(history.epoch, history.history['acc'], lw=3, label='Training')\n",
    "plt.plot(history.epoch, history.history['val_acc'], lw=3, label='Testing')\n",
    "plt.legend(fontsize=14)\n",
    "plt.title('Accuracy of softmax regression', fontsize=16)\n",
    "plt.xlabel('Epoch', fontsize=14)\n",
    "plt.ylabel('Accuracy', fontsize=14)\n",
    "plt.tight_layout()"
   ]
  },
  {
   "cell_type": "markdown",
   "metadata": {
    "colab_type": "text",
    "id": "OfeETH3H_6-1"
   },
   "source": [
    "### <font color=darkred> notMNIST</font>\n",
    "\n",
    "MNIST is a very very **clean** dataset. Digits are rescaled, smoothed, centered, and pixel values are normalized beforehand. Let's switch to a slightly harder dataset: [notMNIST](http://yaroslavvb.blogspot.com/2011/09/notmnist-dataset.html).\n",
    "\n",
    "This time, labels are letters from 'A' to 'J' (10 classes). \n",
    "These letters are taken from digital fonts instead of handwriting pictures. \n",
    "We will use a reduced amount of data to ensure a reasonable training time. \n",
    "The training set you will use has 200K labelled examples, while the validation and test sets both contain 10K labelled examples."
   ]
  },
  {
   "cell_type": "code",
   "execution_count": 0,
   "metadata": {
    "colab": {},
    "colab_type": "code",
    "id": "bx1cC2vF_6-4"
   },
   "outputs": [],
   "source": [
    "import urllib"
   ]
  },
  {
   "cell_type": "markdown",
   "metadata": {
    "colab_type": "text",
    "id": "i7mvESqwmwRp"
   },
   "source": [
    "# Importation des données"
   ]
  },
  {
   "cell_type": "code",
   "execution_count": 0,
   "metadata": {
    "colab": {
     "base_uri": "https://localhost:8080/",
     "height": 147
    },
    "colab_type": "code",
    "executionInfo": {
     "elapsed": 28234,
     "status": "ok",
     "timestamp": 1581413822382,
     "user": {
      "displayName": "Zacharie Buisson",
      "photoUrl": "https://lh3.googleusercontent.com/a-/AAuE7mCGkV6Iu1AiznS1Ewgt6KLx2YLodvZOK_mnB0jJ=s64",
      "userId": "11769471287573675446"
     },
     "user_tz": -60
    },
    "id": "tTkQCvyTBfcB",
    "outputId": "d724d7e8-d7d0-46c7-abe5-7787701a0cb7"
   },
   "outputs": [
    {
     "name": "stdout",
     "output_type": "stream",
     "text": [
      "Go to this URL in a browser: https://accounts.google.com/o/oauth2/auth?client_id=947318989803-6bn6qk8qdgf4n4g3pfee6491hc0brc4i.apps.googleusercontent.com&redirect_uri=urn%3aietf%3awg%3aoauth%3a2.0%3aoob&response_type=code&scope=email%20https%3a%2f%2fwww.googleapis.com%2fauth%2fdocs.test%20https%3a%2f%2fwww.googleapis.com%2fauth%2fdrive%20https%3a%2f%2fwww.googleapis.com%2fauth%2fdrive.photos.readonly%20https%3a%2f%2fwww.googleapis.com%2fauth%2fpeopleapi.readonly\n",
      "\n",
      "Enter your authorization code:\n",
      "··········\n",
      "Mounted at /content/drive\n",
      "conv.PNG  maxpool.PNG  notMNIST.pickle\tprojet_deep_learning_I.ipynb\n"
     ]
    }
   ],
   "source": [
    "#Importation du document sur le Google Drive\n",
    "from google.colab import drive\n",
    "drive.mount('/content/drive')\n",
    "!ls \"/content/drive/My Drive/Projet Deep Learning/\""
   ]
  },
  {
   "cell_type": "code",
   "execution_count": 0,
   "metadata": {
    "colab": {},
    "colab_type": "code",
    "id": "QRifMJgH_6_D"
   },
   "outputs": [],
   "source": [
    "pickle_file = '/content/drive/My Drive/Projet Deep Learning/notMNIST.pickle'\n",
    "\n",
    "with open(pickle_file, 'rb') as f:\n",
    "    data = pkl.load(f)"
   ]
  },
  {
   "cell_type": "code",
   "execution_count": 0,
   "metadata": {
    "colab": {
     "base_uri": "https://localhost:8080/",
     "height": 35
    },
    "colab_type": "code",
    "executionInfo": {
     "elapsed": 1569,
     "status": "ok",
     "timestamp": 1581414248060,
     "user": {
      "displayName": "Zacharie Buisson",
      "photoUrl": "https://lh3.googleusercontent.com/a-/AAuE7mCGkV6Iu1AiznS1Ewgt6KLx2YLodvZOK_mnB0jJ=s64",
      "userId": "11769471287573675446"
     },
     "user_tz": -60
    },
    "id": "480FVG5Y_6_K",
    "outputId": "66451a22-6031-477e-a70c-0262707ebdbe",
    "scrolled": true
   },
   "outputs": [
    {
     "data": {
      "text/plain": [
       "dict_keys(['test_dataset', 'valid_labels', 'test_labels', 'train_dataset', 'train_labels', 'valid_dataset'])"
      ]
     },
     "execution_count": 39,
     "metadata": {
      "tags": []
     },
     "output_type": "execute_result"
    }
   ],
   "source": [
    "data.keys()"
   ]
  },
  {
   "cell_type": "code",
   "execution_count": 0,
   "metadata": {
    "colab": {
     "base_uri": "https://localhost:8080/",
     "height": 182
    },
    "colab_type": "code",
    "executionInfo": {
     "elapsed": 1539,
     "status": "ok",
     "timestamp": 1581416010291,
     "user": {
      "displayName": "Zacharie Buisson",
      "photoUrl": "https://lh3.googleusercontent.com/a-/AAuE7mCGkV6Iu1AiznS1Ewgt6KLx2YLodvZOK_mnB0jJ=s64",
      "userId": "11769471287573675446"
     },
     "user_tz": -60
    },
    "id": "RJMqjDhS_6_U",
    "outputId": "e57a4a72-fa7c-47c5-9ef1-dfa1cc313659"
   },
   "outputs": [
    {
     "name": "stdout",
     "output_type": "stream",
     "text": [
      "x_train shape: (200000, 28, 28, 1)\n",
      "x_valid shape: (10000, 28, 28, 1)\n",
      "x_test shape: (10000, 28, 28, 1)\n",
      "y_train shape: (200000, 10)\n",
      "y_valid shape: (10000, 10)\n",
      "y_test shape: (10000, 10)\n",
      "200000 training samples\n",
      "10000 validation samples\n",
      "10000 testing samples\n"
     ]
    }
   ],
   "source": [
    "\n",
    "\n",
    "def reshape(x, image_data_format, img_rows, img_cols):\n",
    "    if image_data_format == 'channels_first':\n",
    "        return x.astype(np.float32).reshape((-1, 1, img_rows, img_cols))\n",
    "    else:\n",
    "        return x.astype(np.float32).reshape((-1, img_rows, img_cols, 1))\n",
    "\n",
    "img_rows, img_cols = 28, 28\n",
    "num_labels = 10\n",
    "image_data_format = K.image_data_format()\n",
    "\n",
    "if image_data_format == 'channels_first':\n",
    "    input_shape = (1, img_rows, img_cols)\n",
    "else:\n",
    "    input_shape = (img_rows, img_cols, 1)\n",
    "    \n",
    "x_train = reshape(data['train_dataset'], image_data_format, img_rows, img_cols)\n",
    "x_valid = reshape(data['valid_dataset'], image_data_format, img_rows, img_cols)\n",
    "x_test = reshape(data['test_dataset'], image_data_format, img_rows, img_cols)\n",
    "\n",
    "y_train = keras.utils.to_categorical(data['train_labels'])\n",
    "y_valid = keras.utils.to_categorical(data['valid_labels'])\n",
    "y_test = keras.utils.to_categorical(data['test_labels'])\n",
    "\n",
    "print('x_train shape:', x_train.shape)\n",
    "print('x_valid shape:', x_valid.shape)\n",
    "print('x_test shape:', x_test.shape)\n",
    "print('y_train shape:', y_train.shape)\n",
    "print('y_valid shape:', y_valid.shape)\n",
    "print('y_test shape:', y_test.shape)\n",
    "\n",
    "print(x_train.shape[0], 'training samples')\n",
    "print(x_valid.shape[0], 'validation samples')\n",
    "print(x_test.shape[0], 'testing samples')"
   ]
  },
  {
   "cell_type": "code",
   "execution_count": 0,
   "metadata": {
    "colab": {
     "base_uri": "https://localhost:8080/",
     "height": 729
    },
    "colab_type": "code",
    "executionInfo": {
     "elapsed": 3965,
     "status": "ok",
     "timestamp": 1581416016772,
     "user": {
      "displayName": "Zacharie Buisson",
      "photoUrl": "https://lh3.googleusercontent.com/a-/AAuE7mCGkV6Iu1AiznS1Ewgt6KLx2YLodvZOK_mnB0jJ=s64",
      "userId": "11769471287573675446"
     },
     "user_tz": -60
    },
    "id": "ho-8Waaf_6_m",
    "outputId": "f867b55e-c6d2-48bd-e492-ef15acac3c0e",
    "scrolled": false
   },
   "outputs": [
    {
     "data": {
      "image/png": "[encoded data removed]",
      "text/plain": [
       "<Figure size 576x720 with 80 Axes>"
      ]
     },
     "metadata": {
      "tags": []
     },
     "output_type": "display_data"
    }
   ],
   "source": [
    "# plt.figure(figsize=(8, 4))\n",
    "n_rows = 10\n",
    "n_cols = 8\n",
    "plt.figure(figsize=(n_cols, n_rows))\n",
    "\n",
    "letters = ['A', 'B', 'C', 'D', 'E', 'F', 'G', 'H', 'I', 'J']\n",
    "def get_label(y):\n",
    "    return letters[y.argmax()]\n",
    "\n",
    "for i in range(n_rows * n_cols):\n",
    "    ax = plt.subplot(n_rows, n_cols, i+1)\n",
    "    ax.imshow(x_train[i].reshape(28, 28),\n",
    "               interpolation=\"none\", cmap=\"gray_r\")\n",
    "    ax.set_title(get_label(y_train[i]), fontsize=14)\n",
    "    ax.axis(\"off\")\n",
    "plt.tight_layout()"
   ]
  },
  {
   "cell_type": "markdown",
   "metadata": {
    "colab_type": "text",
    "id": "fcZd3aV2_6_v"
   },
   "source": [
    "**Question**\n",
    "\n",
    "Train a softmax regression, visualize the weights, plot the convergence curves, save the model and its history (start with a small number of epochs, and increase the number of epochs)."
   ]
  },
  {
   "cell_type": "code",
   "execution_count": 0,
   "metadata": {
    "colab": {
     "base_uri": "https://localhost:8080/",
     "height": 237
    },
    "colab_type": "code",
    "executionInfo": {
     "elapsed": 781,
     "status": "ok",
     "timestamp": 1580902704325,
     "user": {
      "displayName": "Zacharie Buisson",
      "photoUrl": "https://lh3.googleusercontent.com/a-/AAuE7mCGkV6Iu1AiznS1Ewgt6KLx2YLodvZOK_mnB0jJ=s64",
      "userId": "11769471287573675446"
     },
     "user_tz": -60
    },
    "id": "q2IpyCTf_6_x",
    "outputId": "37e6a400-42e5-481b-9d34-85ae7229a92e"
   },
   "outputs": [
    {
     "name": "stdout",
     "output_type": "stream",
     "text": [
      "Model: \"sequential_13\"\n",
      "_________________________________________________________________\n",
      "Layer (type)                 Output Shape              Param #   \n",
      "=================================================================\n",
      "flatten (Flatten)            (None, 784)               0         \n",
      "_________________________________________________________________\n",
      "dense_softmax (Dense)        (None, 10)                7850      \n",
      "=================================================================\n",
      "Total params: 7,850\n",
      "Trainable params: 7,850\n",
      "Non-trainable params: 0\n",
      "_________________________________________________________________\n"
     ]
    }
   ],
   "source": [
    "#Réponse à la question posée\n",
    "\n",
    "model = Sequential()\n",
    "# First we need to flatten the data: replace 28 * 28 matrices by flat vectors\n",
    "# This is always necessary before feeding data to a fully-connected layer (Dense object)\n",
    "model.add(Flatten(input_shape=input_shape, name='flatten'))\n",
    "\n",
    "model.add(Dense(num_classes, activation='softmax', name='dense_softmax'))\n",
    "\n",
    "model.compile(\n",
    "    # specify the loss as the cross-entropy\n",
    "    loss=keras.losses.categorical_crossentropy,\n",
    "    # choose the Adagrad solver, but you can choose others\n",
    "    optimizer=keras.optimizers.Adagrad(),\n",
    "    # to monitor the accuracy on a testing set along optimization\n",
    "    metrics=['accuracy']\n",
    ")\n",
    "model.summary()"
   ]
  },
  {
   "cell_type": "code",
   "execution_count": 0,
   "metadata": {
    "colab": {
     "base_uri": "https://localhost:8080/",
     "height": 439
    },
    "colab_type": "code",
    "executionInfo": {
     "elapsed": 50200,
     "status": "ok",
     "timestamp": 1581413925586,
     "user": {
      "displayName": "Zacharie Buisson",
      "photoUrl": "https://lh3.googleusercontent.com/a-/AAuE7mCGkV6Iu1AiznS1Ewgt6KLx2YLodvZOK_mnB0jJ=s64",
      "userId": "11769471287573675446"
     },
     "user_tz": -60
    },
    "id": "M8JygtnQI7rl",
    "outputId": "1d732c46-88ed-416b-e632-0e7e2b0ce16c"
   },
   "outputs": [
    {
     "name": "stdout",
     "output_type": "stream",
     "text": [
      "Train on 200000 samples, validate on 10000 samples\n",
      "Epoch 1/10\n",
      "200000/200000 [==============================] - 5s 24us/step - loss: 1.7965 - acc: 0.6957 - val_loss: 0.7297 - val_acc: 0.8493\n",
      "Epoch 2/10\n",
      "200000/200000 [==============================] - 5s 25us/step - loss: 1.0190 - acc: 0.7877 - val_loss: 0.5722 - val_acc: 0.8690\n",
      "Epoch 3/10\n",
      "200000/200000 [==============================] - 5s 24us/step - loss: 0.8581 - acc: 0.8016 - val_loss: 0.5045 - val_acc: 0.8785\n",
      "Epoch 4/10\n",
      "200000/200000 [==============================] - 5s 25us/step - loss: 0.7775 - acc: 0.8094 - val_loss: 0.4718 - val_acc: 0.8814\n",
      "Epoch 5/10\n",
      "200000/200000 [==============================] - 5s 25us/step - loss: 0.7333 - acc: 0.8147 - val_loss: 0.4535 - val_acc: 0.8846\n",
      "Epoch 6/10\n",
      "200000/200000 [==============================] - 5s 27us/step - loss: 0.7071 - acc: 0.8182 - val_loss: 0.4414 - val_acc: 0.8871\n",
      "Epoch 7/10\n",
      "200000/200000 [==============================] - 5s 26us/step - loss: 0.6903 - acc: 0.8211 - val_loss: 0.4341 - val_acc: 0.8882\n",
      "Epoch 8/10\n",
      "200000/200000 [==============================] - 5s 23us/step - loss: 0.6788 - acc: 0.8231 - val_loss: 0.4284 - val_acc: 0.8884\n",
      "Epoch 9/10\n",
      "200000/200000 [==============================] - 5s 24us/step - loss: 0.6705 - acc: 0.8247 - val_loss: 0.4243 - val_acc: 0.8903\n",
      "Epoch 10/10\n",
      "200000/200000 [==============================] - 5s 24us/step - loss: 0.6640 - acc: 0.8261 - val_loss: 0.4216 - val_acc: 0.8911\n",
      "Test loss: 0.42161538870334625\n",
      "Test accuracy: 0.8911\n"
     ]
    }
   ],
   "source": [
    "#Réponse à la question : Entrainement des données\n",
    "batch_size = 64\n",
    "epochs = 10\n",
    "\n",
    "# Run the train\n",
    "history = model.fit(x_train, y_train,\n",
    "                    batch_size=batch_size,\n",
    "                    epochs=epochs,\n",
    "                    verbose=1,\n",
    "                    validation_data=(x_test, y_test))\n",
    "score = model.evaluate(x_test, y_test, verbose=0)\n",
    "print('Test loss:', score[0])\n",
    "print('Test accuracy:', score[1])"
   ]
  },
  {
   "cell_type": "code",
   "execution_count": 0,
   "metadata": {
    "colab": {
     "base_uri": "https://localhost:8080/",
     "height": 369
    },
    "colab_type": "code",
    "executionInfo": {
     "elapsed": 921,
     "status": "ok",
     "timestamp": 1581413942439,
     "user": {
      "displayName": "Zacharie Buisson",
      "photoUrl": "https://lh3.googleusercontent.com/a-/AAuE7mCGkV6Iu1AiznS1Ewgt6KLx2YLodvZOK_mnB0jJ=s64",
      "userId": "11769471287573675446"
     },
     "user_tz": -60
    },
    "id": "0T5tYh36Jy_f",
    "outputId": "3425d984-f51e-4b4d-fc53-6d6c3f32112c"
   },
   "outputs": [
    {
     "data": {
      "image/png": "[encoded data removed]",
      "text/plain": [
       "<Figure size 504x360 with 1 Axes>"
      ]
     },
     "metadata": {
      "tags": []
     },
     "output_type": "display_data"
    }
   ],
   "source": [
    "#Réponse à la question : Calcul des poids + Graphique\n",
    "plt.figure(figsize=(7, 5))\n",
    "plt.plot(history.epoch, history.history['acc'], lw=3, label='Training')\n",
    "plt.plot(history.epoch, history.history['val_acc'], lw=3, label='Testing')\n",
    "plt.legend(fontsize=14)\n",
    "plt.title('Accuracy of softmax regression', fontsize=16)\n",
    "plt.xlabel('Epoch', fontsize=14)\n",
    "plt.ylabel('Accuracy', fontsize=14)\n",
    "plt.tight_layout()"
   ]
  },
  {
   "cell_type": "markdown",
   "metadata": {
    "colab_type": "text",
    "id": "EO0a693mK3ou"
   },
   "source": [
    "**Le test nest pas probant : on ne reconnait pas les images, le modèle est sous entrainé, car il y a des cas dans lesquels on n'a pas affaire à une lettre mais on a un symbole (police d'écriture symbole).** "
   ]
  },
  {
   "cell_type": "markdown",
   "metadata": {
    "colab_type": "text",
    "id": "hhvO-iG4_6_5"
   },
   "source": [
    "**Question**\n",
    "\n",
    "Train FFNN with one hidden layer with 128 units, visualize the convergence curves, save the history."
   ]
  },
  {
   "cell_type": "code",
   "execution_count": 0,
   "metadata": {
    "colab": {
     "base_uri": "https://localhost:8080/",
     "height": 274
    },
    "colab_type": "code",
    "executionInfo": {
     "elapsed": 620,
     "status": "ok",
     "timestamp": 1581414314444,
     "user": {
      "displayName": "Zacharie Buisson",
      "photoUrl": "https://lh3.googleusercontent.com/a-/AAuE7mCGkV6Iu1AiznS1Ewgt6KLx2YLodvZOK_mnB0jJ=s64",
      "userId": "11769471287573675446"
     },
     "user_tz": -60
    },
    "id": "MLbjOHfM_6_8",
    "outputId": "76e683df-4299-4959-d939-2a60d643ce33"
   },
   "outputs": [
    {
     "name": "stdout",
     "output_type": "stream",
     "text": [
      "Model: \"sequential_8\"\n",
      "_________________________________________________________________\n",
      "Layer (type)                 Output Shape              Param #   \n",
      "=================================================================\n",
      "flatten_6 (Flatten)          (None, 784)               0         \n",
      "_________________________________________________________________\n",
      "dense_9 (Dense)              (None, 128)               100480    \n",
      "_________________________________________________________________\n",
      "dense_10 (Dense)             (None, 10)                1290      \n",
      "=================================================================\n",
      "Total params: 101,770\n",
      "Trainable params: 101,770\n",
      "Non-trainable params: 0\n",
      "_________________________________________________________________\n"
     ]
    }
   ],
   "source": [
    "model_ffnn = Sequential()\n",
    "\n",
    "model_ffnn.add(Flatten(input_shape=input_shape))\n",
    "model_ffnn.add(Dense(128, activation='relu')) #Ajout numéro 1\n",
    "model_ffnn.add(Dense(num_classes, activation='softmax')) #La dernière couche ici, un vecteur avec le nombre de classe \n",
    "#plus avec softmax\n",
    "\n",
    "model_ffnn.compile(\n",
    "    loss=keras.losses.categorical_crossentropy,\n",
    "    optimizer=keras.optimizers.Adagrad(),\n",
    "    metrics=['accuracy']\n",
    ")\n",
    "\n",
    "model_ffnn.summary()"
   ]
  },
  {
   "cell_type": "code",
   "execution_count": 0,
   "metadata": {
    "colab": {
     "base_uri": "https://localhost:8080/",
     "height": 439
    },
    "colab_type": "code",
    "executionInfo": {
     "elapsed": 196370,
     "status": "ok",
     "timestamp": 1581414668436,
     "user": {
      "displayName": "Zacharie Buisson",
      "photoUrl": "https://lh3.googleusercontent.com/a-/AAuE7mCGkV6Iu1AiznS1Ewgt6KLx2YLodvZOK_mnB0jJ=s64",
      "userId": "11769471287573675446"
     },
     "user_tz": -60
    },
    "id": "xllUTmLSoNHI",
    "outputId": "898fa997-74da-4bb7-dc1f-018f46a916bc"
   },
   "outputs": [
    {
     "name": "stdout",
     "output_type": "stream",
     "text": [
      "Train on 200000 samples, validate on 10000 samples\n",
      "Epoch 1/10\n",
      "200000/200000 [==============================] - 19s 97us/step - loss: 0.3562 - acc: 0.8973 - val_loss: 0.2005 - val_acc: 0.9438\n",
      "Epoch 2/10\n",
      "200000/200000 [==============================] - 19s 96us/step - loss: 0.3510 - acc: 0.8989 - val_loss: 0.1979 - val_acc: 0.9445\n",
      "Epoch 3/10\n",
      "200000/200000 [==============================] - 21s 105us/step - loss: 0.3465 - acc: 0.9002 - val_loss: 0.1952 - val_acc: 0.9458\n",
      "Epoch 4/10\n",
      "200000/200000 [==============================] - 20s 98us/step - loss: 0.3426 - acc: 0.9015 - val_loss: 0.1946 - val_acc: 0.9459\n",
      "Epoch 5/10\n",
      "200000/200000 [==============================] - 19s 97us/step - loss: 0.3390 - acc: 0.9024 - val_loss: 0.1924 - val_acc: 0.9449\n",
      "Epoch 6/10\n",
      "200000/200000 [==============================] - 19s 96us/step - loss: 0.3358 - acc: 0.9033 - val_loss: 0.1917 - val_acc: 0.9474\n",
      "Epoch 7/10\n",
      "200000/200000 [==============================] - 19s 97us/step - loss: 0.3327 - acc: 0.9042 - val_loss: 0.1904 - val_acc: 0.9467\n",
      "Epoch 8/10\n",
      "200000/200000 [==============================] - 19s 97us/step - loss: 0.3298 - acc: 0.9052 - val_loss: 0.1892 - val_acc: 0.9464\n",
      "Epoch 9/10\n",
      "200000/200000 [==============================] - 19s 96us/step - loss: 0.3272 - acc: 0.9057 - val_loss: 0.1881 - val_acc: 0.9473\n",
      "Epoch 10/10\n",
      "200000/200000 [==============================] - 20s 98us/step - loss: 0.3248 - acc: 0.9066 - val_loss: 0.1872 - val_acc: 0.9483\n",
      "Test loss: 0.1871574241220951\n",
      "Test accuracy: 0.9483\n"
     ]
    }
   ],
   "source": [
    "batch_size = 32\n",
    "epochs = 10\n",
    "\n",
    "# Run the train\n",
    "history = model_ffnn.fit(x_train, y_train,\n",
    "                         batch_size=batch_size,\n",
    "                         epochs=epochs,\n",
    "                         verbose=1,\n",
    "                         validation_data=(x_test, y_test))\n",
    "score = model_ffnn.evaluate(x_test, y_test, verbose=0)\n",
    "print('Test loss:', score[0])\n",
    "print('Test accuracy:', score[1])"
   ]
  },
  {
   "cell_type": "markdown",
   "metadata": {
    "colab_type": "text",
    "id": "mlEhIE9ap8-M"
   },
   "source": [
    "**Réponse**\n",
    "\n",
    "Dans cette partie, on tente une analyse avec une méthode différente. On se propose de réaliser un apprentissage avec un modèle basé sur une FFNN, avec une seule couche.\n",
    "\n",
    "Dans ce cas, on peut voir que le modèle est plus précis : en effet, on obtient cette fois-ci une précision bien plus grande : environ 0.95 avec ce modèle contre seulement environ 0.89 pour la méthode précédente.\n",
    "\n",
    "On peut donc se dire que cette méthode est meilleure, mais l'on n'a encore pas un résultat suffisant : il faudrait un écart entre la partie entrainée et la partie testée qui soit bien moindre."
   ]
  },
  {
   "cell_type": "code",
   "execution_count": 0,
   "metadata": {
    "colab": {
     "base_uri": "https://localhost:8080/",
     "height": 369
    },
    "colab_type": "code",
    "executionInfo": {
     "elapsed": 995,
     "status": "ok",
     "timestamp": 1581414882345,
     "user": {
      "displayName": "Zacharie Buisson",
      "photoUrl": "https://lh3.googleusercontent.com/a-/AAuE7mCGkV6Iu1AiznS1Ewgt6KLx2YLodvZOK_mnB0jJ=s64",
      "userId": "11769471287573675446"
     },
     "user_tz": -60
    },
    "id": "t8jrJlIjq6mg",
    "outputId": "5bbc222f-c309-40bd-fc1b-1eec06327049"
   },
   "outputs": [
    {
     "data": {
      "image/png": "[encoded data removed]",
      "text/plain": [
       "<Figure size 504x360 with 1 Axes>"
      ]
     },
     "metadata": {
      "tags": []
     },
     "output_type": "display_data"
    }
   ],
   "source": [
    "plt.figure(figsize=(7, 5))\n",
    "plt.plot(history.epoch, history.history['acc'], lw=3, label='Training')\n",
    "plt.plot(history.epoch, history.history['val_acc'], lw=3, label='Testing')\n",
    "plt.legend(fontsize=14)\n",
    "plt.title('Accuracy of softmax regression', fontsize=16)\n",
    "plt.xlabel('Epoch', fontsize=14)\n",
    "plt.ylabel('Accuracy', fontsize=14)\n",
    "plt.tight_layout()"
   ]
  },
  {
   "cell_type": "markdown",
   "metadata": {
    "colab_type": "text",
    "id": "qOM55GDN_7AE"
   },
   "source": [
    "**Question**\n",
    "\n",
    "Train a CNN with the following structure:\n",
    "\n",
    "1. Convolutional layer with 32 filters and 5 * 5 kernel sizes and 'relu' activation\n",
    "- Max pooling with pool size 2 * 2\n",
    "- Convolutional layer with 64 filters and 5 * 5 kernel sizes and 'relu' activation\n",
    "- Max pooling with pool size 2 * 2\n",
    "- Dropout with probability 0.25 (réduit l'apprentisage, cf sur Internet)\n",
    "- Dense layer with 1024 units\n",
    "- Dropout with probability 0.5\n",
    "- Dense output layer with softmax activation\n",
    "\n",
    "Use the Adam solver. Train for 20 epochs."
   ]
  },
  {
   "cell_type": "code",
   "execution_count": 0,
   "metadata": {
    "colab": {
     "base_uri": "https://localhost:8080/",
     "height": 495
    },
    "colab_type": "code",
    "executionInfo": {
     "elapsed": 564,
     "status": "ok",
     "timestamp": 1581416169774,
     "user": {
      "displayName": "Zacharie Buisson",
      "photoUrl": "https://lh3.googleusercontent.com/a-/AAuE7mCGkV6Iu1AiznS1Ewgt6KLx2YLodvZOK_mnB0jJ=s64",
      "userId": "11769471287573675446"
     },
     "user_tz": -60
    },
    "id": "IPoulHOLrS5n",
    "outputId": "20762156-83ed-46ff-81f2-2844a80c0d98"
   },
   "outputs": [
    {
     "name": "stdout",
     "output_type": "stream",
     "text": [
      "Model: \"sequential_12\"\n",
      "_________________________________________________________________\n",
      "Layer (type)                 Output Shape              Param #   \n",
      "=================================================================\n",
      "conv2d_9 (Conv2D)            (None, 24, 24, 32)        832       \n",
      "_________________________________________________________________\n",
      "max_pooling2d_8 (MaxPooling2 (None, 12, 12, 32)        0         \n",
      "_________________________________________________________________\n",
      "conv2d_10 (Conv2D)           (None, 8, 8, 64)          51264     \n",
      "_________________________________________________________________\n",
      "max_pooling2d_9 (MaxPooling2 (None, 4, 4, 64)          0         \n",
      "_________________________________________________________________\n",
      "dropout_7 (Dropout)          (None, 4, 4, 64)          0         \n",
      "_________________________________________________________________\n",
      "dense_softmax (Dense)        (None, 4, 4, 1024)        66560     \n",
      "_________________________________________________________________\n",
      "dropout_8 (Dropout)          (None, 4, 4, 1024)        0         \n",
      "_________________________________________________________________\n",
      "flatten (Flatten)            (None, 16384)             0         \n",
      "_________________________________________________________________\n",
      "dense_14 (Dense)             (None, 10)                163850    \n",
      "=================================================================\n",
      "Total params: 282,506\n",
      "Trainable params: 282,506\n",
      "Non-trainable params: 0\n",
      "_________________________________________________________________\n"
     ]
    }
   ],
   "source": [
    "model_cnn = Sequential()\n",
    "\n",
    "model_cnn.add(Conv2D(32,kernel_size=(5, 5), activation='relu', input_shape=input_shape))#On sort une matrice des moyennes des 32 matrices\n",
    "model_cnn.add(MaxPooling2D(pool_size=(2,2)))\n",
    "model_cnn.add(Conv2D(64,kernel_size=(5, 5), activation='relu', input_shape=input_shape))\n",
    "model_cnn.add(MaxPooling2D(pool_size=(2,2)))\n",
    "model_cnn.add(Dropout(0.25,noise_shape=None,seed=None))\n",
    "model_cnn.add(Dense(1024, activation='softmax', name='dense_softmax'))\n",
    "model_cnn.add(Dropout(0.5,noise_shape=None,seed=None))\n",
    "\n",
    "model_cnn.add(Flatten(input_shape=input_shape, name='flatten')) #Applatir la matrice des moyennes\n",
    "model_cnn.add(Dense(num_classes, activation='softmax'))#Fonction d'activation softmax, on veut 10 sorties à la fin\n",
    "\n",
    "                    \n",
    "model_cnn.compile(loss=keras.losses.categorical_crossentropy,\n",
    "                  optimizer=keras.optimizers.Adadelta(),\n",
    "                  metrics=['accuracy'])\n",
    "\n",
    "model_cnn.summary()"
   ]
  },
  {
   "cell_type": "code",
   "execution_count": 0,
   "metadata": {
    "colab": {
     "base_uri": "https://localhost:8080/",
     "height": 256
    },
    "colab_type": "code",
    "executionInfo": {
     "elapsed": 2239696,
     "status": "ok",
     "timestamp": 1581418413133,
     "user": {
      "displayName": "Zacharie Buisson",
      "photoUrl": "https://lh3.googleusercontent.com/a-/AAuE7mCGkV6Iu1AiznS1Ewgt6KLx2YLodvZOK_mnB0jJ=s64",
      "userId": "11769471287573675446"
     },
     "user_tz": -60
    },
    "id": "byW206y6ufoz",
    "outputId": "d6df0e86-2ef8-476e-ad48-d961d54a7e40"
   },
   "outputs": [
    {
     "name": "stdout",
     "output_type": "stream",
     "text": [
      "Train on 200000 samples, validate on 10000 samples\n",
      "Epoch 1/5\n",
      "200000/200000 [==============================] - 430s 2ms/step - loss: 1.3606 - acc: 0.5350 - val_loss: 0.3809 - val_acc: 0.8921\n",
      "Epoch 2/5\n",
      "200000/200000 [==============================] - 446s 2ms/step - loss: 0.6906 - acc: 0.7983 - val_loss: 0.2800 - val_acc: 0.9192\n",
      "Epoch 3/5\n",
      "200000/200000 [==============================] - 455s 2ms/step - loss: 0.6043 - acc: 0.8251 - val_loss: 0.2422 - val_acc: 0.9294\n",
      "Epoch 4/5\n",
      "200000/200000 [==============================] - 454s 2ms/step - loss: 0.5544 - acc: 0.8395 - val_loss: 0.2172 - val_acc: 0.9363\n",
      "Epoch 5/5\n",
      "200000/200000 [==============================] - 448s 2ms/step - loss: 0.5210 - acc: 0.8497 - val_loss: 0.2069 - val_acc: 0.9397\n",
      "Test loss: 0.2068765182197094\n",
      "Test accuracy: 0.9397\n"
     ]
    }
   ],
   "source": [
    "batch_size = 32\n",
    "epochs = 5\n",
    "\n",
    "# Run the train\n",
    "history = model_cnn.fit(x_train, y_train,\n",
    "                        batch_size=batch_size,\n",
    "                        epochs=epochs,\n",
    "                        verbose=1,\n",
    "                        validation_data=(x_test, y_test))\n",
    "score = model_cnn.evaluate(x_test, y_test, verbose=0)\n",
    "print('Test loss:', score[0])\n",
    "print('Test accuracy:', score[1])"
   ]
  },
  {
   "cell_type": "markdown",
   "metadata": {
    "colab_type": "text",
    "id": "uKgersBz_7AI"
   },
   "source": [
    "**Question**\n",
    "\n",
    "Run a cross-validation to analyze the influence of the kernel sizes (step 1 and 3), the activation functions (step 1 and 3) and the number of units of the hidden layer (step 6)."
   ]
  },
  {
   "cell_type": "markdown",
   "metadata": {
    "colab_type": "text",
    "id": "ezqgM1b8_7AL"
   },
   "source": [
    "### <font color=darkred> Simple Recurrent neural networks</font>"
   ]
  },
  {
   "cell_type": "code",
   "execution_count": 2,
   "metadata": {
    "colab": {
     "base_uri": "https://localhost:8080/",
     "height": 83
    },
    "colab_type": "code",
    "executionInfo": {
     "elapsed": 2874,
     "status": "ok",
     "timestamp": 1581886209860,
     "user": {
      "displayName": "Zacharie Buisson",
      "photoUrl": "https://lh3.googleusercontent.com/a-/AAuE7mCGkV6Iu1AiznS1Ewgt6KLx2YLodvZOK_mnB0jJ=s64",
      "userId": "11769471287573675446"
     },
     "user_tz": -60
    },
    "id": "9Oyn8wk1_7AO",
    "outputId": "359df990-02f5-40cd-ad56-07893e596ebf"
   },
   "outputs": [
    {
     "name": "stderr",
     "output_type": "stream",
     "text": [
      "Using TensorFlow backend.\n"
     ]
    },
    {
     "data": {
      "text/html": [
       "<p style=\"color: red;\">\n",
       "The default version of TensorFlow in Colab will soon switch to TensorFlow 2.x.<br>\n",
       "We recommend you <a href=\"https://www.tensorflow.org/guide/migrate\" target=\"_blank\">upgrade</a> now \n",
       "or ensure your notebook will continue to use TensorFlow 1.x via the <code>%tensorflow_version 1.x</code> magic:\n",
       "<a href=\"https://colab.research.google.com/notebooks/tensorflow_version.ipynb\" target=\"_blank\">more info</a>.</p>\n"
      ],
      "text/plain": [
       "<IPython.core.display.HTML object>"
      ]
     },
     "metadata": {
      "tags": []
     },
     "output_type": "display_data"
    }
   ],
   "source": [
    "from keras.layers.recurrent import SimpleRNN\n",
    "from keras.datasets import imdb\n",
    "from keras.layers.embeddings import Embedding\n",
    "from keras.layers import Dense, Dropout, Activation, Flatten\n",
    "from keras.preprocessing import sequence"
   ]
  },
  {
   "cell_type": "markdown",
   "metadata": {
    "colab_type": "text",
    "id": "pHpuK1pg_7AW"
   },
   "source": [
    "**IMDB sentiment classification task**\n",
    "\n",
    "This is a dataset for binary sentiment classification containing substantially more data than previous benchmark datasets.\n",
    "\n",
    "IMDB provided a set of 25,000 highly popular movie reviews for training, and 25,000 for testing.\n",
    "\n",
    "Dataset of 25,000 movies reviews from IMDB, labeled by sentiment (positive/negative). Reviews have been preprocessed, and each review is encoded as a sequence of word indexes (integers). For convenience, words are indexed by overall frequency in the dataset, so that for instance the integer \"3\" encodes the 3rd most frequent word in the data. This allows for quick filtering operations such as: \"only consider the top 10,000 most common words, but eliminate the top 20 most common words\".\n",
    "\n",
    "See here: https://keras.io/datasets/"
   ]
  },
  {
   "cell_type": "code",
   "execution_count": 4,
   "metadata": {
    "colab": {
     "base_uri": "https://localhost:8080/",
     "height": 201
    },
    "colab_type": "code",
    "executionInfo": {
     "elapsed": 7228,
     "status": "ok",
     "timestamp": 1581886231957,
     "user": {
      "displayName": "Zacharie Buisson",
      "photoUrl": "https://lh3.googleusercontent.com/a-/AAuE7mCGkV6Iu1AiznS1Ewgt6KLx2YLodvZOK_mnB0jJ=s64",
      "userId": "11769471287573675446"
     },
     "user_tz": -60
    },
    "id": "eoWWQMzb_7AY",
    "outputId": "9881c728-4663-4875-cfea-ea626d01c7b9"
   },
   "outputs": [
    {
     "name": "stdout",
     "output_type": "stream",
     "text": [
      "Downloading data from https://s3.amazonaws.com/text-datasets/imdb.npz\n",
      "\r",
      "    8192/17464789 [..............................] - ETA: 0s"
     ]
    },
    {
     "name": "stderr",
     "output_type": "stream",
     "text": [
      "/usr/local/lib/python3.6/dist-packages/keras/datasets/imdb.py:49: UserWarning: The `nb_words` argument in `load_data` has been renamed `num_words`.\n",
      "  warnings.warn('The `nb_words` argument in `load_data` '\n"
     ]
    },
    {
     "name": "stdout",
     "output_type": "stream",
     "text": [
      "17465344/17464789 [==============================] - 0s 0us/step\n",
      "25000 train samples\n",
      "25000 test samples\n",
      "y_train shape: (25000,)\n",
      "y_test shape: (25000,)\n",
      "X_train shape: (25000, 50)\n",
      "X_test shape: (25000, 50)\n"
     ]
    }
   ],
   "source": [
    "# Top most frequent words to consider, other words are discarded\n",
    "# Number of words considered as different features\n",
    "max_features = 1000\n",
    "\n",
    "# Maximum sequence length. Any longer sequence will be truncated.\n",
    "maxlen = 50 \n",
    "\n",
    "(x_train, y_train), (x_test, y_test) = imdb.load_data(nb_words = max_features)\n",
    "\n",
    "print(x_train.shape[0], 'train samples')\n",
    "print(x_test.shape[0], 'test samples')\n",
    "\n",
    "\n",
    "print('y_train shape:', y_train.shape)\n",
    "print('y_test shape:', y_test.shape)\n",
    "\n",
    "\n",
    "# Build the sequences of maxlen words for each sample\n",
    "x_train = sequence.pad_sequences(x_train, maxlen = maxlen)\n",
    "x_test = sequence.pad_sequences(x_test, maxlen = maxlen)\n",
    "print('X_train shape:', x_train.shape)\n",
    "print('X_test shape:', x_test.shape)\n"
   ]
  },
  {
   "cell_type": "code",
   "execution_count": 5,
   "metadata": {
    "colab": {
     "base_uri": "https://localhost:8080/",
     "height": 661
    },
    "colab_type": "code",
    "executionInfo": {
     "elapsed": 754,
     "status": "ok",
     "timestamp": 1581886232722,
     "user": {
      "displayName": "Zacharie Buisson",
      "photoUrl": "https://lh3.googleusercontent.com/a-/AAuE7mCGkV6Iu1AiznS1Ewgt6KLx2YLodvZOK_mnB0jJ=s64",
      "userId": "11769471287573675446"
     },
     "user_tz": -60
    },
    "id": "r9_AolAG_7Ag",
    "outputId": "2f3fbf51-3ab1-42d4-e169-b97bf1cb064e"
   },
   "outputs": [
    {
     "name": "stdout",
     "output_type": "stream",
     "text": [
      "WARNING:tensorflow:From /usr/local/lib/python3.6/dist-packages/keras/backend/tensorflow_backend.py:66: The name tf.get_default_graph is deprecated. Please use tf.compat.v1.get_default_graph instead.\n",
      "\n",
      "WARNING:tensorflow:From /usr/local/lib/python3.6/dist-packages/keras/backend/tensorflow_backend.py:541: The name tf.placeholder is deprecated. Please use tf.compat.v1.placeholder instead.\n",
      "\n",
      "WARNING:tensorflow:From /usr/local/lib/python3.6/dist-packages/keras/backend/tensorflow_backend.py:4432: The name tf.random_uniform is deprecated. Please use tf.random.uniform instead.\n",
      "\n",
      "WARNING:tensorflow:From /usr/local/lib/python3.6/dist-packages/keras/backend/tensorflow_backend.py:148: The name tf.placeholder_with_default is deprecated. Please use tf.compat.v1.placeholder_with_default instead.\n",
      "\n",
      "WARNING:tensorflow:From /usr/local/lib/python3.6/dist-packages/keras/backend/tensorflow_backend.py:3733: calling dropout (from tensorflow.python.ops.nn_ops) with keep_prob is deprecated and will be removed in a future version.\n",
      "Instructions for updating:\n",
      "Please use `rate` instead of `keep_prob`. Rate should be set to `rate = 1 - keep_prob`.\n",
      "WARNING:tensorflow:From /usr/local/lib/python3.6/dist-packages/keras/optimizers.py:793: The name tf.train.Optimizer is deprecated. Please use tf.compat.v1.train.Optimizer instead.\n",
      "\n",
      "WARNING:tensorflow:From /usr/local/lib/python3.6/dist-packages/keras/backend/tensorflow_backend.py:3657: The name tf.log is deprecated. Please use tf.math.log instead.\n",
      "\n",
      "WARNING:tensorflow:From /usr/local/lib/python3.6/dist-packages/tensorflow_core/python/ops/nn_impl.py:183: where (from tensorflow.python.ops.array_ops) is deprecated and will be removed in a future version.\n",
      "Instructions for updating:\n",
      "Use tf.where in 2.0, which has the same broadcast rule as np.where\n",
      "Model: \"sequential_1\"\n",
      "_________________________________________________________________\n",
      "Layer (type)                 Output Shape              Param #   \n",
      "=================================================================\n",
      "embedding_1 (Embedding)      (None, None, 32)          32000     \n",
      "_________________________________________________________________\n",
      "simple_rnn_1 (SimpleRNN)     (None, 32)                2080      \n",
      "_________________________________________________________________\n",
      "dropout_1 (Dropout)          (None, 32)                0         \n",
      "_________________________________________________________________\n",
      "dense_sigmoid (Dense)        (None, 1)                 33        \n",
      "=================================================================\n",
      "Total params: 34,113\n",
      "Trainable params: 34,113\n",
      "Non-trainable params: 0\n",
      "_________________________________________________________________\n"
     ]
    }
   ],
   "source": [
    "model_rnn = Sequential()\n",
    "\n",
    "# Embedding layer, turns positive integers or indices into dense vectors of fixed size\n",
    "model_rnn.add(Embedding(max_features, 32))\n",
    "model_rnn.add(SimpleRNN(32))  \n",
    "model_rnn.add(Dropout(0.5))\n",
    "model_rnn.add(Dense(1, activation='sigmoid', name='dense_sigmoid'))\n",
    "\n",
    "model_rnn.compile(loss='binary_crossentropy', optimizer='adam')\n",
    "\n",
    "model_rnn.summary()"
   ]
  },
  {
   "cell_type": "code",
   "execution_count": 1,
   "metadata": {
    "colab": {
     "base_uri": "https://localhost:8080/",
     "height": 246
    },
    "colab_type": "code",
    "executionInfo": {
     "elapsed": 1629,
     "status": "error",
     "timestamp": 1581886173442,
     "user": {
      "displayName": "Zacharie Buisson",
      "photoUrl": "https://lh3.googleusercontent.com/a-/AAuE7mCGkV6Iu1AiznS1Ewgt6KLx2YLodvZOK_mnB0jJ=s64",
      "userId": "11769471287573675446"
     },
     "user_tz": -60
    },
    "id": "8HHGlQf6_7An",
    "outputId": "5af239be-e37a-4239-aa7a-36ecc0be7eb0"
   },
   "outputs": [
    {
     "ename": "NameError",
     "evalue": "ignored",
     "output_type": "error",
     "traceback": [
      "\u001b[0;31m---------------------------------------------------------------------------\u001b[0m",
      "\u001b[0;31mNameError\u001b[0m                                 Traceback (most recent call last)",
      "\u001b[0;32m<ipython-input-1-8a553d9e66a3>\u001b[0m in \u001b[0;36m<module>\u001b[0;34m()\u001b[0m\n\u001b[1;32m      2\u001b[0m \u001b[0mepochs\u001b[0m \u001b[0;34m=\u001b[0m \u001b[0;36m5\u001b[0m\u001b[0;34m\u001b[0m\u001b[0;34m\u001b[0m\u001b[0m\n\u001b[1;32m      3\u001b[0m \u001b[0;34m\u001b[0m\u001b[0m\n\u001b[0;32m----> 4\u001b[0;31m history = model_rnn.fit(x_train, y_train,\n\u001b[0m\u001b[1;32m      5\u001b[0m                         \u001b[0mbatch_size\u001b[0m\u001b[0;34m=\u001b[0m\u001b[0mbatch_size\u001b[0m\u001b[0;34m,\u001b[0m\u001b[0;34m\u001b[0m\u001b[0;34m\u001b[0m\u001b[0m\n\u001b[1;32m      6\u001b[0m                         \u001b[0mepochs\u001b[0m\u001b[0;34m=\u001b[0m\u001b[0mepochs\u001b[0m\u001b[0;34m,\u001b[0m\u001b[0;34m\u001b[0m\u001b[0;34m\u001b[0m\u001b[0m\n",
      "\u001b[0;31mNameError\u001b[0m: name 'model_rnn' is not defined"
     ]
    }
   ],
   "source": [
    "batch_size = 32\n",
    "epochs = 5\n",
    "\n",
    "history = model_rnn.fit(x_train, y_train,\n",
    "                        batch_size=batch_size,\n",
    "                        epochs=epochs,\n",
    "                        verbose=1,\n",
    "                        validation_data=(x_test, y_test))"
   ]
  },
  {
   "cell_type": "markdown",
   "metadata": {
    "colab_type": "text",
    "id": "Wm6XM84X_7Au"
   },
   "source": [
    "**Question**\n",
    "\n",
    "Run a cross-validation to analyze the influence of the size of the RNN layer and of the embedding layer."
   ]
  },
  {
   "cell_type": "code",
   "execution_count": 0,
   "metadata": {
    "colab": {},
    "colab_type": "code",
    "id": "1zU3gtw15YTF"
   },
   "outputs": [],
   "source": []
  },
  {
   "cell_type": "markdown",
   "metadata": {
    "colab_type": "text",
    "id": "6bd-DD83_7Az"
   },
   "source": [
    "**Question (bonus)**\n",
    "\n",
    "You may try to implement a first LSTM on this example (see next practical session)."
   ]
  },
  {
   "cell_type": "code",
   "execution_count": 0,
   "metadata": {
    "colab": {},
    "colab_type": "code",
    "id": "kY5ndGdK_7A1"
   },
   "outputs": [],
   "source": []
  }
 ],
 "metadata": {
  "anaconda-cloud": {},
  "colab": {
   "name": "projet_deep_learning_I.ipynb",
   "provenance": []
  },
  "kernelspec": {
   "display_name": "Python 3",
   "language": "python",
   "name": "python3"
  },
  "language_info": {
   "codemirror_mode": {
    "name": "ipython",
    "version": 3
   },
   "file_extension": ".py",
   "mimetype": "text/x-python",
   "name": "python",
   "nbconvert_exporter": "python",
   "pygments_lexer": "ipython3",
   "version": "3.7.4"
  }
 },
 "nbformat": 4,
 "nbformat_minor": 1
}
